{
  "cells": [
    {
      "cell_type": "markdown",
      "metadata": {
        "id": "view-in-github",
        "colab_type": "text"
      },
      "source": [
        "<a href=\"https://colab.research.google.com/github/Dbryan224/text_mining/blob/main/tesis_final.ipynb\" target=\"_parent\"><img src=\"https://colab.research.google.com/assets/colab-badge.svg\" alt=\"Open In Colab\"/></a>"
      ]
    },
    {
      "cell_type": "code",
      "execution_count": null,
      "id": "83f44604",
      "metadata": {
        "id": "83f44604"
      },
      "outputs": [],
      "source": [
        "#pip install pandas matplotlib numpy nltk seaborn sklearn gensim pyldavis wordcloud textblob spacy textstat"
      ]
    },
    {
      "cell_type": "markdown",
      "id": "dda6102a",
      "metadata": {
        "id": "dda6102a"
      },
      "source": [
        "## TESIS MASTER INTELIGENCIA ARTIFICIAL\n",
        "\n",
        "### Text Mining aplicado a conversaciones y comentarios dentro del proceso de emisión de Firmas Electrónicas\n",
        "\n",
        "#### BRYAN DAVID ALLAUCA FAJARDO"
      ]
    },
    {
      "cell_type": "markdown",
      "id": "ae4a0a86",
      "metadata": {
        "id": "ae4a0a86"
      },
      "source": [
        "##### Importacion de librerias"
      ]
    },
    {
      "cell_type": "code",
      "execution_count": null,
      "id": "69bb9bb9",
      "metadata": {
        "colab": {
          "base_uri": "https://localhost:8080/"
        },
        "id": "69bb9bb9",
        "outputId": "a48eec61-7a87-4b7e-ece1-1c0180d9e059"
      },
      "outputs": [
        {
          "output_type": "stream",
          "name": "stderr",
          "text": [
            "/usr/local/lib/python3.8/dist-packages/past/types/oldstr.py:5: DeprecationWarning: Using or importing the ABCs from 'collections' instead of from 'collections.abc' is deprecated since Python 3.3, and in 3.10 it will stop working\n",
            "  from collections import Iterable\n",
            "[nltk_data] Downloading package punkt to /root/nltk_data...\n",
            "[nltk_data]   Unzipping tokenizers/punkt.zip.\n",
            "[nltk_data] Downloading package wordnet to /root/nltk_data...\n",
            "[nltk_data] Downloading package stopwords to /root/nltk_data...\n",
            "[nltk_data]   Unzipping corpora/stopwords.zip.\n",
            "/usr/local/lib/python3.8/dist-packages/torch/cuda/__init__.py:497: UserWarning: Can't initialize NVML\n",
            "  warnings.warn(\"Can't initialize NVML\")\n"
          ]
        },
        {
          "output_type": "stream",
          "name": "stdout",
          "text": [
            "\u001b[38;5;2m✔ Download and installation successful\u001b[0m\n",
            "You can now load the package via spacy.load('es_core_news_md')\n"
          ]
        }
      ],
      "source": [
        "import pandas as pd\n",
        "import numpy as np\n",
        "\n",
        "import matplotlib.pyplot as plt\n",
        "\n",
        "import seaborn as sns\n",
        "from collections import  Counter\n",
        "\n",
        "from sklearn.feature_extraction.text import CountVectorizer\n",
        "from sklearn.model_selection import train_test_split\n",
        "from sklearn.svm import LinearSVC\n",
        "from sklearn import metrics\n",
        "import itertools\n",
        "import string\n",
        "\n",
        "import gensim\n",
        "import pyLDAvis\n",
        "import pyLDAvis.gensim_models\n",
        "from gensim.models.coherencemodel import CoherenceModel\n",
        "\n",
        "import nltk \n",
        "nltk.download( 'punkt' ) \n",
        "nltk.download( 'wordnet' )\n",
        "from nltk.stem import WordNetLemmatizer,PorterStemmer\n",
        "from nltk.tokenize import word_tokenize\n",
        "from nltk.corpus import stopwords\n",
        "nltk.download('stopwords')\n",
        "\n",
        "from wordcloud import WordCloud, STOPWORDS\n",
        "from textblob import TextBlob\n",
        "\n",
        "from nltk.sentiment.vader import SentimentIntensityAnalyzer\n",
        "\n",
        "import spacy.cli \n",
        "import spacy\n",
        "spacy.cli.download(\"es_core_news_md\")\n",
        "\n",
        "import warnings\n",
        "warnings.filterwarnings(\"ignore\",category=DeprecationWarning)"
      ]
    },
    {
      "cell_type": "markdown",
      "id": "5ecdda93",
      "metadata": {
        "id": "5ecdda93"
      },
      "source": [
        "### Proceso para Conversaciones\n",
        "\n",
        "##### Lectura de Datos"
      ]
    },
    {
      "cell_type": "code",
      "execution_count": null,
      "id": "7ace8018",
      "metadata": {
        "colab": {
          "base_uri": "https://localhost:8080/",
          "height": 206
        },
        "id": "7ace8018",
        "outputId": "1010a203-61d9-4dab-8536-600922763cfa"
      },
      "outputs": [
        {
          "output_type": "execute_result",
          "data": {
            "text/plain": [
              "                   Fecha           Id  \\\n",
              "0  18-10-2022 / 21:30:43  12392451273   \n",
              "1  10-10-2022 / 18:19:32  13059890172   \n",
              "2  14-10-2022 / 09:28:18  14438378825   \n",
              "3  12-10-2022 / 15:45:00  14438378825   \n",
              "4  17-10-2022 / 13:07:38  17862568709   \n",
              "\n",
              "                                        Conversacion                 Area  \n",
              "0  Buenos días no me han dado hasta ahora mi firm...          Operaciones  \n",
              "1  Yo ya tengo mi firma electrónica con ustedes p...  Sistema Facturacion  \n",
              "2  Buenas tardes, les saluda Lorena Sofia  Carvaj...              Soporte  \n",
              "3  Buenas tardes, recibi un correo para renovar l...         Renovaciones  \n",
              "4  Hola, estoy intentando registrar mi firma con ...          Operaciones  "
            ],
            "text/html": [
              "\n",
              "  <div id=\"df-be86447c-9b9c-49f4-8513-b456fdbc134d\">\n",
              "    <div class=\"colab-df-container\">\n",
              "      <div>\n",
              "<style scoped>\n",
              "    .dataframe tbody tr th:only-of-type {\n",
              "        vertical-align: middle;\n",
              "    }\n",
              "\n",
              "    .dataframe tbody tr th {\n",
              "        vertical-align: top;\n",
              "    }\n",
              "\n",
              "    .dataframe thead th {\n",
              "        text-align: right;\n",
              "    }\n",
              "</style>\n",
              "<table border=\"1\" class=\"dataframe\">\n",
              "  <thead>\n",
              "    <tr style=\"text-align: right;\">\n",
              "      <th></th>\n",
              "      <th>Fecha</th>\n",
              "      <th>Id</th>\n",
              "      <th>Conversacion</th>\n",
              "      <th>Area</th>\n",
              "    </tr>\n",
              "  </thead>\n",
              "  <tbody>\n",
              "    <tr>\n",
              "      <th>0</th>\n",
              "      <td>18-10-2022 / 21:30:43</td>\n",
              "      <td>12392451273</td>\n",
              "      <td>Buenos días no me han dado hasta ahora mi firm...</td>\n",
              "      <td>Operaciones</td>\n",
              "    </tr>\n",
              "    <tr>\n",
              "      <th>1</th>\n",
              "      <td>10-10-2022 / 18:19:32</td>\n",
              "      <td>13059890172</td>\n",
              "      <td>Yo ya tengo mi firma electrónica con ustedes p...</td>\n",
              "      <td>Sistema Facturacion</td>\n",
              "    </tr>\n",
              "    <tr>\n",
              "      <th>2</th>\n",
              "      <td>14-10-2022 / 09:28:18</td>\n",
              "      <td>14438378825</td>\n",
              "      <td>Buenas tardes, les saluda Lorena Sofia  Carvaj...</td>\n",
              "      <td>Soporte</td>\n",
              "    </tr>\n",
              "    <tr>\n",
              "      <th>3</th>\n",
              "      <td>12-10-2022 / 15:45:00</td>\n",
              "      <td>14438378825</td>\n",
              "      <td>Buenas tardes, recibi un correo para renovar l...</td>\n",
              "      <td>Renovaciones</td>\n",
              "    </tr>\n",
              "    <tr>\n",
              "      <th>4</th>\n",
              "      <td>17-10-2022 / 13:07:38</td>\n",
              "      <td>17862568709</td>\n",
              "      <td>Hola, estoy intentando registrar mi firma con ...</td>\n",
              "      <td>Operaciones</td>\n",
              "    </tr>\n",
              "  </tbody>\n",
              "</table>\n",
              "</div>\n",
              "      <button class=\"colab-df-convert\" onclick=\"convertToInteractive('df-be86447c-9b9c-49f4-8513-b456fdbc134d')\"\n",
              "              title=\"Convert this dataframe to an interactive table.\"\n",
              "              style=\"display:none;\">\n",
              "        \n",
              "  <svg xmlns=\"http://www.w3.org/2000/svg\" height=\"24px\"viewBox=\"0 0 24 24\"\n",
              "       width=\"24px\">\n",
              "    <path d=\"M0 0h24v24H0V0z\" fill=\"none\"/>\n",
              "    <path d=\"M18.56 5.44l.94 2.06.94-2.06 2.06-.94-2.06-.94-.94-2.06-.94 2.06-2.06.94zm-11 1L8.5 8.5l.94-2.06 2.06-.94-2.06-.94L8.5 2.5l-.94 2.06-2.06.94zm10 10l.94 2.06.94-2.06 2.06-.94-2.06-.94-.94-2.06-.94 2.06-2.06.94z\"/><path d=\"M17.41 7.96l-1.37-1.37c-.4-.4-.92-.59-1.43-.59-.52 0-1.04.2-1.43.59L10.3 9.45l-7.72 7.72c-.78.78-.78 2.05 0 2.83L4 21.41c.39.39.9.59 1.41.59.51 0 1.02-.2 1.41-.59l7.78-7.78 2.81-2.81c.8-.78.8-2.07 0-2.86zM5.41 20L4 18.59l7.72-7.72 1.47 1.35L5.41 20z\"/>\n",
              "  </svg>\n",
              "      </button>\n",
              "      \n",
              "  <style>\n",
              "    .colab-df-container {\n",
              "      display:flex;\n",
              "      flex-wrap:wrap;\n",
              "      gap: 12px;\n",
              "    }\n",
              "\n",
              "    .colab-df-convert {\n",
              "      background-color: #E8F0FE;\n",
              "      border: none;\n",
              "      border-radius: 50%;\n",
              "      cursor: pointer;\n",
              "      display: none;\n",
              "      fill: #1967D2;\n",
              "      height: 32px;\n",
              "      padding: 0 0 0 0;\n",
              "      width: 32px;\n",
              "    }\n",
              "\n",
              "    .colab-df-convert:hover {\n",
              "      background-color: #E2EBFA;\n",
              "      box-shadow: 0px 1px 2px rgba(60, 64, 67, 0.3), 0px 1px 3px 1px rgba(60, 64, 67, 0.15);\n",
              "      fill: #174EA6;\n",
              "    }\n",
              "\n",
              "    [theme=dark] .colab-df-convert {\n",
              "      background-color: #3B4455;\n",
              "      fill: #D2E3FC;\n",
              "    }\n",
              "\n",
              "    [theme=dark] .colab-df-convert:hover {\n",
              "      background-color: #434B5C;\n",
              "      box-shadow: 0px 1px 3px 1px rgba(0, 0, 0, 0.15);\n",
              "      filter: drop-shadow(0px 1px 2px rgba(0, 0, 0, 0.3));\n",
              "      fill: #FFFFFF;\n",
              "    }\n",
              "  </style>\n",
              "\n",
              "      <script>\n",
              "        const buttonEl =\n",
              "          document.querySelector('#df-be86447c-9b9c-49f4-8513-b456fdbc134d button.colab-df-convert');\n",
              "        buttonEl.style.display =\n",
              "          google.colab.kernel.accessAllowed ? 'block' : 'none';\n",
              "\n",
              "        async function convertToInteractive(key) {\n",
              "          const element = document.querySelector('#df-be86447c-9b9c-49f4-8513-b456fdbc134d');\n",
              "          const dataTable =\n",
              "            await google.colab.kernel.invokeFunction('convertToInteractive',\n",
              "                                                     [key], {});\n",
              "          if (!dataTable) return;\n",
              "\n",
              "          const docLinkHtml = 'Like what you see? Visit the ' +\n",
              "            '<a target=\"_blank\" href=https://colab.research.google.com/notebooks/data_table.ipynb>data table notebook</a>'\n",
              "            + ' to learn more about interactive tables.';\n",
              "          element.innerHTML = '';\n",
              "          dataTable['output_type'] = 'display_data';\n",
              "          await google.colab.output.renderOutput(dataTable, element);\n",
              "          const docLink = document.createElement('div');\n",
              "          docLink.innerHTML = docLinkHtml;\n",
              "          element.appendChild(docLink);\n",
              "        }\n",
              "      </script>\n",
              "    </div>\n",
              "  </div>\n",
              "  "
            ]
          },
          "metadata": {},
          "execution_count": 8
        }
      ],
      "source": [
        "data_sd = pd.read_excel(\"dataSD.xlsx\")\n",
        "data_sd.head()"
      ]
    },
    {
      "cell_type": "markdown",
      "id": "00ab392d",
      "metadata": {
        "id": "00ab392d"
      },
      "source": [
        "#### Análisis de estadísticas de texto"
      ]
    },
    {
      "cell_type": "code",
      "execution_count": null,
      "id": "aa748f65",
      "metadata": {
        "colab": {
          "base_uri": "https://localhost:8080/",
          "height": 283
        },
        "id": "aa748f65",
        "outputId": "f9eeb576-57f0-4e2f-ab0e-ac594542705b"
      },
      "outputs": [
        {
          "output_type": "execute_result",
          "data": {
            "text/plain": [
              "<matplotlib.axes._subplots.AxesSubplot at 0x7facf4a7a490>"
            ]
          },
          "metadata": {},
          "execution_count": 6
        },
        {
          "output_type": "display_data",
          "data": {
            "text/plain": [
              "<Figure size 432x288 with 1 Axes>"
            ],
            "image/png": "[encoded data removed]"
          },
          "metadata": {
            "needs_background": "light"
          }
        }
      ],
      "source": [
        "#Histograma de cantidad de caracteres presentes en cada conversacion\n",
        "data_sd['Conversacion'].str.len().hist()"
      ]
    },
    {
      "cell_type": "code",
      "execution_count": null,
      "id": "0f088d62",
      "metadata": {
        "colab": {
          "base_uri": "https://localhost:8080/",
          "height": 265
        },
        "id": "0f088d62",
        "outputId": "e04a5184-dabc-4151-f3f0-6f135ca27804"
      },
      "outputs": [
        {
          "output_type": "display_data",
          "data": {
            "text/plain": [
              "<Figure size 432x288 with 1 Axes>"
            ],
            "image/png": "[encoded data removed]"
          },
          "metadata": {
            "needs_background": "light"
          }
        }
      ],
      "source": [
        "#Histograma del número de palabras por cada coversacion\n",
        "def numero_palabras_histogram(text):\n",
        "    text.str.split().map(lambda x: len(x)).hist()\n",
        "    \n",
        "numero_palabras_histogram(data_sd['Conversacion'])"
      ]
    },
    {
      "cell_type": "code",
      "source": [
        "from google.colab import drive\n",
        "drive.mount('/content/drive')"
      ],
      "metadata": {
        "id": "pQFVqhaQMCdR"
      },
      "id": "pQFVqhaQMCdR",
      "execution_count": null,
      "outputs": []
    },
    {
      "cell_type": "code",
      "execution_count": null,
      "id": "5b1fc6b1",
      "metadata": {
        "id": "5b1fc6b1",
        "outputId": "db8e0228-ff4a-433f-f30a-9a27ca0a1fa7"
      },
      "outputs": [
        {
          "data": {
            "text/html": [
              "<div>\n",
              "<style scoped>\n",
              "    .dataframe tbody tr th:only-of-type {\n",
              "        vertical-align: middle;\n",
              "    }\n",
              "\n",
              "    .dataframe tbody tr th {\n",
              "        vertical-align: top;\n",
              "    }\n",
              "\n",
              "    .dataframe thead th {\n",
              "        text-align: right;\n",
              "    }\n",
              "</style>\n",
              "<table border=\"1\" class=\"dataframe\">\n",
              "  <thead>\n",
              "    <tr style=\"text-align: right;\">\n",
              "      <th></th>\n",
              "      <th>Fecha</th>\n",
              "      <th>Id</th>\n",
              "      <th>Conversacion</th>\n",
              "      <th>Area</th>\n",
              "    </tr>\n",
              "  </thead>\n",
              "  <tbody>\n",
              "    <tr>\n",
              "      <th>0</th>\n",
              "      <td>18-10-2022 / 21:30:43</td>\n",
              "      <td>12392451273</td>\n",
              "      <td>Buenos días no me han dado hasta ahora mi firm...</td>\n",
              "      <td>Operaciones</td>\n",
              "    </tr>\n",
              "    <tr>\n",
              "      <th>1</th>\n",
              "      <td>10-10-2022 / 18:19:32</td>\n",
              "      <td>13059890172</td>\n",
              "      <td>Yo ya tengo mi firma electrónica con ustedes p...</td>\n",
              "      <td>Sistema Facturacion</td>\n",
              "    </tr>\n",
              "    <tr>\n",
              "      <th>2</th>\n",
              "      <td>14-10-2022 / 09:28:18</td>\n",
              "      <td>14438378825</td>\n",
              "      <td>Buenas tardes, les saluda Lorena Sofia  Carvaj...</td>\n",
              "      <td>Soporte</td>\n",
              "    </tr>\n",
              "    <tr>\n",
              "      <th>3</th>\n",
              "      <td>12-10-2022 / 15:45:00</td>\n",
              "      <td>14438378825</td>\n",
              "      <td>Buenas tardes, recibi un correo para renovar l...</td>\n",
              "      <td>Renovaciones</td>\n",
              "    </tr>\n",
              "    <tr>\n",
              "      <th>4</th>\n",
              "      <td>17-10-2022 / 13:07:38</td>\n",
              "      <td>17862568709</td>\n",
              "      <td>Hola, estoy intentando registrar mi firma con ...</td>\n",
              "      <td>Operaciones</td>\n",
              "    </tr>\n",
              "  </tbody>\n",
              "</table>\n",
              "</div>"
            ],
            "text/plain": [
              "                   Fecha           Id  \\\n",
              "0  18-10-2022 / 21:30:43  12392451273   \n",
              "1  10-10-2022 / 18:19:32  13059890172   \n",
              "2  14-10-2022 / 09:28:18  14438378825   \n",
              "3  12-10-2022 / 15:45:00  14438378825   \n",
              "4  17-10-2022 / 13:07:38  17862568709   \n",
              "\n",
              "                                        Conversacion                 Area  \n",
              "0  Buenos días no me han dado hasta ahora mi firm...          Operaciones  \n",
              "1  Yo ya tengo mi firma electrónica con ustedes p...  Sistema Facturacion  \n",
              "2  Buenas tardes, les saluda Lorena Sofia  Carvaj...              Soporte  \n",
              "3  Buenas tardes, recibi un correo para renovar l...         Renovaciones  \n",
              "4  Hola, estoy intentando registrar mi firma con ...          Operaciones  "
            ]
          },
          "execution_count": 5,
          "metadata": {},
          "output_type": "execute_result"
        }
      ],
      "source": [
        "#Seleccion de conversaciones con mas de 2 palabras\n",
        "data_new = data_sd[data_sd['Conversacion'].str.split().map(lambda x: len(x)) > 3]\n",
        "#Seleccion de conversaciones con menos de 80 palabras\n",
        "data_new = data_new[data_new['Conversacion'].str.split().map(lambda x: len(x)) <60]\n",
        "data_new = data_new.reset_index(drop=True)\n",
        "data_new.head()"
      ]
    },
    {
      "cell_type": "code",
      "execution_count": null,
      "id": "47f76696",
      "metadata": {
        "id": "47f76696",
        "outputId": "0bdab35a-55d7-4656-ab20-cd30e2a7f153"
      },
      "outputs": [
        {
          "data": {
            "image/png": "[encoded data removed]",
            "text/plain": [
              "<Figure size 432x288 with 1 Axes>"
            ]
          },
          "metadata": {
            "needs_background": "light"
          },
          "output_type": "display_data"
        }
      ],
      "source": [
        "#histograma de la longitud promedio de las palabras\n",
        "def longitud_palabras_histogram(text):\n",
        "    text.str.split().apply(lambda x : [len(i) for i in x]).map(lambda x: np.mean(x)).hist()\n",
        "    \n",
        "longitud_palabras_histogram(data_new['Conversacion'])"
      ]
    },
    {
      "cell_type": "code",
      "execution_count": null,
      "id": "898baff6",
      "metadata": {
        "id": "898baff6",
        "outputId": "a8d894d3-1708-4c7d-b47f-c31346a1cf4c"
      },
      "outputs": [
        {
          "data": {
            "image/png": "[encoded data removed]",
            "text/plain": [
              "<Figure size 432x288 with 1 Axes>"
            ]
          },
          "metadata": {
            "needs_background": "light"
          },
          "output_type": "display_data"
        }
      ],
      "source": [
        "stop_words = stopwords.words('spanish')\n",
        "stop_words.extend(['Buenos', 'dias', 'días', 'día', 'noches', 'tardes', 'tardes,', 'Buenas','Buen','favor','buenos','buenas','buen'])\n",
        "stop=set(stop_words)\n",
        "\n",
        "#Top de los palabras vacias\n",
        "def top_stopwords(text): \n",
        "    new= text.str.split()\n",
        "    new=new.values.tolist()\n",
        "    corpus=[word for i in new for word in i]\n",
        "    from collections import defaultdict\n",
        "    dic=defaultdict(int)\n",
        "    for word in corpus:\n",
        "        if word in stop:\n",
        "            dic[word]+=1\n",
        "    top=sorted(dic.items(), key=lambda x:x[1],reverse=True)[:10] \n",
        "    x,y=zip(*top)\n",
        "    plt.bar(x,y)\n",
        "\n",
        "top_stopwords(data_new['Conversacion'])"
      ]
    },
    {
      "cell_type": "code",
      "execution_count": null,
      "id": "e5db7b9b",
      "metadata": {
        "id": "e5db7b9b",
        "outputId": "2fd13856-f55c-4895-f180-7c6af2558278"
      },
      "outputs": [
        {
          "data": {
            "image/png": "[encoded data removed]",
            "text/plain": [
              "<Figure size 432x288 with 1 Axes>"
            ]
          },
          "metadata": {
            "needs_background": "light"
          },
          "output_type": "display_data"
        }
      ],
      "source": [
        "#Top de los palabras que no son vacias\n",
        "def top_no_stopwords(text):\n",
        "    new= text.str.split()\n",
        "    new=new.values.tolist()\n",
        "    corpus=[word for i in new for word in i]\n",
        "    counter=Counter(corpus)\n",
        "    most=counter.most_common()\n",
        "    x, y=[], []\n",
        "    for word,count in most[:40]:\n",
        "        if (word not in stop):\n",
        "            x.append(word)\n",
        "            y.append(count)\n",
        "    sns.barplot(x=y,y=x)\n",
        "top_no_stopwords(data_new['Conversacion'])"
      ]
    },
    {
      "cell_type": "markdown",
      "id": "3f6ab77b",
      "metadata": {
        "id": "3f6ab77b"
      },
      "source": [
        "#### Exploración de ngramas"
      ]
    },
    {
      "cell_type": "code",
      "execution_count": null,
      "id": "909e2565",
      "metadata": {
        "id": "909e2565",
        "outputId": "cd87554f-6d7d-4f01-becb-c782fc4daae9"
      },
      "outputs": [
        {
          "data": {
            "image/png": "[encoded data removed]",
            "text/plain": [
              "<Figure size 432x288 with 1 Axes>"
            ]
          },
          "metadata": {
            "needs_background": "light"
          },
          "output_type": "display_data"
        }
      ],
      "source": [
        "#Funcion que agrupa por N-Gramas\n",
        "def top_n_gramas(text, n=2):\n",
        "    new= text.str.split()\n",
        "    new=new.values.tolist()\n",
        "    corpus=[word for i in new for word in i]\n",
        "    def _obtener_ngramas(corpus, n=None):\n",
        "        vec = CountVectorizer(ngram_range=(n, n)).fit(corpus)\n",
        "        bag_of_words = vec.transform(corpus)\n",
        "        sum_words = bag_of_words.sum(axis=0) \n",
        "        words_freq = [(word, sum_words[0, idx]) \n",
        "                      for word, idx in vec.vocabulary_.items()]\n",
        "        words_freq =sorted(words_freq, key = lambda x: x[1], reverse=True)\n",
        "        return words_freq[:10]\n",
        "    top_n_bigrams=_obtener_ngramas(text,n)[:10]\n",
        "    x,y=map(list,zip(*top_n_bigrams))\n",
        "    sns.barplot(x=y,y=x)\n",
        "    \n",
        "top_n_gramas(data_new['Conversacion'],2)"
      ]
    },
    {
      "cell_type": "code",
      "execution_count": null,
      "id": "60abfcc6",
      "metadata": {
        "id": "60abfcc6",
        "outputId": "569f8812-17d0-4ace-d34c-b8a2c74870e9"
      },
      "outputs": [
        {
          "data": {
            "image/png": "[encoded data removed]",
            "text/plain": [
              "<Figure size 432x288 with 1 Axes>"
            ]
          },
          "metadata": {
            "needs_background": "light"
          },
          "output_type": "display_data"
        }
      ],
      "source": [
        "top_n_gramas(data_new['Conversacion'],3)"
      ]
    },
    {
      "cell_type": "markdown",
      "id": "408c775e",
      "metadata": {
        "id": "408c775e"
      },
      "source": [
        "#### Tokenizar palabras, Lemantizar y limpiar texto"
      ]
    },
    {
      "cell_type": "code",
      "execution_count": null,
      "id": "236eac19",
      "metadata": {
        "id": "236eac19"
      },
      "outputs": [],
      "source": [
        "#Tokenizar cada oración en una lista de palabras, eliminar los signos de puntuación y los caracteres innecesarios\n",
        "data = data_new.Conversacion.values.tolist()\n",
        "\n",
        "def lista_palabras(sentences):\n",
        "    for sentence in sentences:\n",
        "        yield(gensim.utils.simple_preprocess(str(sentence).encode('utf-8'), deacc=True))  # deacc=True elimina signos de puntuacion"
      ]
    },
    {
      "cell_type": "code",
      "execution_count": null,
      "id": "7eb0000c",
      "metadata": {
        "id": "7eb0000c"
      },
      "outputs": [],
      "source": [
        "# Funciones para stopwords, bigramas y Lemantizar\n",
        "bigram = gensim.models.Phrases(data_words, min_count=5, threshold=100)\n",
        "bigram_mod = gensim.models.phrases.Phraser(bigram)\n",
        "\n",
        "nlp = spacy.load('es_core_news_md')\n",
        "nlp.disable_pipes('parser', 'ner')\n",
        "    \n",
        "# Eliminar Stop Word\n",
        "def eliminar_stopwords(texts):\n",
        "    return [[word for word in gensim.utils.simple_preprocess(str(doc)) if word not in stop_words] for doc in texts]\n",
        "\n",
        "# Formar los Bigramas\n",
        "def crear_bigramas(texts):\n",
        "    return [bigram_mod[doc] for doc in texts]\n",
        "\n",
        "# Lemantizar\n",
        "def lemantizar(texts, allowed_postags=['NOUN', 'ADJ', 'VERB', 'ADV']):\n",
        "    texts_out = []\n",
        "    for sent in texts:\n",
        "        doc = nlp(\" \".join(sent)) \n",
        "        texts_out.append([token.lemma_ for token in doc if token.pos_ in allowed_postags])\n",
        "    return texts_out"
      ]
    },
    {
      "cell_type": "code",
      "execution_count": null,
      "id": "e3a2fcd8",
      "metadata": {
        "id": "e3a2fcd8"
      },
      "outputs": [],
      "source": [
        "\n",
        "data_no_stopword = eliminar_stopwords(data_words)\n",
        "\n",
        "\n",
        "data_bigrama = crear_bigramas(data_no_stopword)\n",
        "\n",
        "# Lemantizar solo con noun, adj, vb, adv\n",
        "nlp = spacy.load('es_core_news_md')\n",
        "nlp.disable_pipes('parser', 'ner')\n",
        "data_lemantizada = lemantizar(data_bigrama, allowed_postags=['NOUN', 'ADJ', 'VERB', 'ADV'])"
      ]
    },
    {
      "cell_type": "code",
      "execution_count": null,
      "id": "84a8a1e9",
      "metadata": {
        "id": "84a8a1e9"
      },
      "outputs": [],
      "source": [
        "def tratamiento_data(text):\n",
        "    #lista palabras\n",
        "    data_words = list(lista_palabras(text))\n",
        "    #Limpiar stopword\n",
        "    data_no_stopword = eliminar_stopwords(data_words)\n",
        "    #Crear bigramas\n",
        "    data_bigrama = crear_bigramas(data_no_stopword)\n",
        "\n",
        "    # Lemantizar solo con noun, adj, vb, adv\n",
        "    data_lemantizada = lemantizar(data_bigrama, allowed_postags=['NOUN', 'ADJ', 'VERB', 'ADV'])\n",
        "    return data_lemantizada"
      ]
    },
    {
      "cell_type": "code",
      "execution_count": null,
      "id": "8e3f51d1",
      "metadata": {
        "id": "8e3f51d1"
      },
      "outputs": [],
      "source": [
        "data_lemantizada = tratamiento_data(data)"
      ]
    },
    {
      "cell_type": "markdown",
      "id": "ab31f2c8",
      "metadata": {
        "id": "ab31f2c8"
      },
      "source": [
        "#### Creacion de Corpus y Diccionario"
      ]
    },
    {
      "cell_type": "code",
      "execution_count": null,
      "id": "236f6076",
      "metadata": {
        "id": "236f6076"
      },
      "outputs": [],
      "source": [
        "# Creacion de  Diccionario\n",
        "id2word = gensim.corpora.Dictionary(data_lemantizada)\n",
        "\n",
        "# Creacion de Corpus\n",
        "corpus = [id2word.doc2bow(text) for text in data_lemantizada]"
      ]
    },
    {
      "cell_type": "markdown",
      "id": "b5e2ec31",
      "metadata": {
        "id": "b5e2ec31"
      },
      "source": [
        "#### Modelo LDA o MALLET y numero de temas optimos"
      ]
    },
    {
      "cell_type": "code",
      "execution_count": null,
      "id": "e908f656",
      "metadata": {
        "id": "e908f656"
      },
      "outputs": [],
      "source": [
        "#Funcion que calcula y guarda los valores de coherencia para dierentes temas con el modelo LDA\n",
        "def valores_coherencia(diccionario, corpus, texts, fin, inicio=2, paso=3, tip_model='LDA'):\n",
        "    coherencia_val = []\n",
        "    modelos = []\n",
        "    for num_temas in range(inicio, fin, paso):\n",
        "        if (tip_model == 'LDA') :\n",
        "            model = gensim.models.ldamodel.LdaModel(corpus=corpus,    #corpus\n",
        "                                               id2word=id2word,       #diccionario\n",
        "                                               num_topics=num_temas,  #numero de temas\n",
        "                                               random_state=100,      \n",
        "                                               update_every=1,        #frecuencia de actualización de parámetros\n",
        "                                               chunksize=100,         #número de documentos por fragmento\n",
        "                                               passes=10,             #pasos de entrenamiento\n",
        "                                               alpha='auto',\n",
        "                                               per_word_topics=True)\n",
        "        else:\n",
        "            model = gensim.models.wrappers.LdaMallet(mallet_path, corpus=corpus, num_topics=num_temas, id2word=id2word)\n",
        "        modelos.append(model)\n",
        "        coherencia_modelo = CoherenceModel(model=model, texts=texts, dictionary=diccionario, coherence='c_v')\n",
        "        coherencia_val.append(coherencia_modelo.get_coherence())\n",
        "\n",
        "    return modelos, coherencia_val"
      ]
    },
    {
      "cell_type": "code",
      "execution_count": null,
      "id": "22fb6a6b",
      "metadata": {
        "id": "22fb6a6b"
      },
      "outputs": [],
      "source": [
        "#Calcular varios modelos y su coherencia para determinar el optimo\n",
        "inicio=2\n",
        "fin=18\n",
        "pasos=2\n",
        "modelos, coherencia_val = valores_coherencia(diccionario=id2word, corpus=corpus, texts=data_lemantizada, inicio=inicio, fin=fin, paso=pasos,tip_model='LDA')"
      ]
    },
    {
      "cell_type": "code",
      "execution_count": null,
      "id": "08a12817",
      "metadata": {
        "id": "08a12817",
        "outputId": "d39f730a-5289-4865-ace4-e1188570bfaa"
      },
      "outputs": [
        {
          "data": {
            "image/png": "[encoded data removed]",
            "text/plain": [
              "<Figure size 432x288 with 1 Axes>"
            ]
          },
          "metadata": {
            "needs_background": "light"
          },
          "output_type": "display_data"
        }
      ],
      "source": [
        "#Graficar numeor de temas con su coherencia\n",
        "x = range(inicio, fin, pasos)\n",
        "plt.plot(x, coherencia_val)\n",
        "plt.xlabel(\"Num Temas\")\n",
        "plt.ylabel(\"Valor Coherencia\")\n",
        "plt.legend((\"coherencia\"), loc='best')\n",
        "plt.show()"
      ]
    },
    {
      "cell_type": "code",
      "execution_count": null,
      "id": "46b38155",
      "metadata": {
        "id": "46b38155",
        "outputId": "8de3bcab-4130-4a77-d26f-2f642289f9c0"
      },
      "outputs": [
        {
          "name": "stdout",
          "output_type": "stream",
          "text": [
            "Numero de Temas = 2  tiene un valor de coherencia de:  0.3558\n",
            "Numero de Temas = 4  tiene un valor de coherencia de:  0.4437\n",
            "Numero de Temas = 6  tiene un valor de coherencia de:  0.4927\n",
            "Numero de Temas = 8  tiene un valor de coherencia de:  0.5012\n",
            "Numero de Temas = 10  tiene un valor de coherencia de:  0.5265\n",
            "Numero de Temas = 12  tiene un valor de coherencia de:  0.5118\n",
            "Numero de Temas = 14  tiene un valor de coherencia de:  0.5052\n",
            "Numero de Temas = 16  tiene un valor de coherencia de:  0.4812\n"
          ]
        }
      ],
      "source": [
        "#Valores de COherencia por cada numero de tema\n",
        "for m, cv in zip(x, coherencia_val):\n",
        "    print(\"Numero de Temas =\", m, \" tiene un valor de coherencia de: \", round(cv, 4))"
      ]
    },
    {
      "cell_type": "code",
      "execution_count": null,
      "id": "52acdd17",
      "metadata": {
        "id": "52acdd17",
        "outputId": "c0f1c52c-507d-493c-d4de-52a0103065aa"
      },
      "outputs": [
        {
          "data": {
            "text/plain": [
              "[(0,\n",
              "  [('plan', 0.13394636),\n",
              "   ('indicar', 0.06434212),\n",
              "   ('saludo', 0.057565935),\n",
              "   ('subir', 0.04851156),\n",
              "   ('proceso', 0.041087992),\n",
              "   ('ayuda', 0.036932357),\n",
              "   ('tiempo', 0.034186807),\n",
              "   ('cuanto', 0.020268187),\n",
              "   ('adjunto', 0.017470988),\n",
              "   ('interesar', 0.017409714)]),\n",
              " (1,\n",
              "  [('electronico', 0.20706211),\n",
              "   ('firma', 0.1889067),\n",
              "   ('ayudar', 0.0674557),\n",
              "   ('necesitar', 0.059216723),\n",
              "   ('renovar', 0.04368491),\n",
              "   ('querer', 0.039148685),\n",
              "   ('hacer', 0.023945631),\n",
              "   ('desear', 0.020215273),\n",
              "   ('facturacion', 0.018003857),\n",
              "   ('sacar', 0.01400724)]),\n",
              " (2,\n",
              "  [('gracias', 0.061278824),\n",
              "   ('paso', 0.050787646),\n",
              "   ('nombre', 0.04612708),\n",
              "   ('paquete', 0.043877948),\n",
              "   ('tambien', 0.041561462),\n",
              "   ('estimado', 0.034342837),\n",
              "   ('tramite', 0.03339626),\n",
              "   ('consulta', 0.03228281),\n",
              "   ('agradecer', 0.021393348),\n",
              "   ('recibi', 0.019375365)]),\n",
              " (3,\n",
              "  [('factura', 0.13289529),\n",
              "   ('contar', 0.05602008),\n",
              "   ('cuenta', 0.043513365),\n",
              "   ('electronica', 0.04282351),\n",
              "   ('interesado', 0.040393326),\n",
              "   ('llegar', 0.039410595),\n",
              "   ('correo', 0.027446665),\n",
              "   ('solicitud', 0.027267234),\n",
              "   ('ayudemir', 0.025829284),\n",
              "   ('bancario', 0.020630583)]),\n",
              " (4,\n",
              "  [('pago', 0.18163317),\n",
              "   ('realizar', 0.10099129),\n",
              "   ('hacer', 0.050645888),\n",
              "   ('requisito', 0.04140568),\n",
              "   ('porfavor', 0.041092396),\n",
              "   ('archivo', 0.03647279),\n",
              "   ('hoy', 0.030469507),\n",
              "   ('token', 0.027167637),\n",
              "   ('comprobante', 0.025706556),\n",
              "   ('transferencia', 0.0209735)]),\n",
              " (5,\n",
              "  [('clave', 0.07345958),\n",
              "   ('contratar', 0.06928365),\n",
              "   ('disculpar', 0.05379569),\n",
              "   ('ayudemar', 0.04941607),\n",
              "   ('contrasén', 0.034793377),\n",
              "   ('ubicado', 0.03248208),\n",
              "   ('comprobant', 0.031114336),\n",
              "   ('oficina', 0.022514677),\n",
              "   ('persona', 0.02091581),\n",
              "   ('quito', 0.018937035)]),\n",
              " (6,\n",
              "  [('ayuda', 0.119648226),\n",
              "   ('descargar', 0.08339275),\n",
              "   ('salir', 0.04519503),\n",
              "   ('cambiar', 0.041165903),\n",
              "   ('momento', 0.03562025),\n",
              "   ('contrasena', 0.033648152),\n",
              "   ('contrasén', 0.031755112),\n",
              "   ('pasar', 0.019850304),\n",
              "   ('consulta', 0.017879892),\n",
              "   ('acceso', 0.01564584)]),\n",
              " (7,\n",
              "  [('estimado', 0.1096003),\n",
              "   ('renovacion', 0.103020236),\n",
              "   ('funcionar', 0.046636023),\n",
              "   ('dar', 0.0446632),\n",
              "   ('caduco', 0.035665825),\n",
              "   ('nuevo', 0.02931675),\n",
              "   ('descarga', 0.019731613),\n",
              "   ('enviado', 0.018014066),\n",
              "   ('costar', 0.016366357),\n",
              "   ('pedir', 0.01614417)]),\n",
              " (8,\n",
              "  [('persona_natural', 0.06282138),\n",
              "   ('pagar', 0.050836936),\n",
              "   ('ayudar yo', 0.049527127),\n",
              "   ('valor', 0.042010263),\n",
              "   ('medio', 0.032892723),\n",
              "   ('gestionar', 0.024843786),\n",
              "   ('cliente', 0.02318275),\n",
              "   ('computadora', 0.022803042),\n",
              "   ('tanto', 0.021781111),\n",
              "   ('amable', 0.019150373)]),\n",
              " (9,\n",
              "  [('video', 0.19065164),\n",
              "   ('enviar', 0.07882077),\n",
              "   ('disculpe', 0.07289323),\n",
              "   ('hacer', 0.05008982),\n",
              "   ('mas', 0.03679317),\n",
              "   ('poner', 0.02579103),\n",
              "   ('ofrecer', 0.015279099),\n",
              "   ('brindar', 0.014981386),\n",
              "   ('explicar', 0.01376259),\n",
              "   ('acabar', 0.013514417)])]"
            ]
          },
          "execution_count": 93,
          "metadata": {},
          "output_type": "execute_result"
        }
      ],
      "source": [
        "# Selecciona el modelo mas optimo basado en la coherencia\n",
        "modelo_numero = 4;\n",
        "modelo_optimo = modelos[modelo_numero]\n",
        "modelo_optimo.show_topics(formatted=False)\n",
        "#print(modelo_optimo.print_topics(num_words=numero_temas))"
      ]
    },
    {
      "cell_type": "markdown",
      "id": "bca7fec6",
      "metadata": {
        "id": "bca7fec6"
      },
      "source": [
        "#### Exploración de modelado de temas con pyLDAvis"
      ]
    },
    {
      "cell_type": "code",
      "execution_count": null,
      "id": "13908c1d",
      "metadata": {
        "id": "13908c1d",
        "outputId": "7b662015-0ac7-4e09-90dc-70fec201dc8e"
      },
      "outputs": [
        {
          "data": {
            "text/html": [
              "\n",
              "<link rel=\"stylesheet\" type=\"text/css\" href=\"https://cdn.jsdelivr.net/gh/bmabey/pyLDAvis@3.3.1/pyLDAvis/js/ldavis.v1.0.0.css\">\n",
              "\n",
              "\n",
              "<div id=\"ldavis_el901620424219594729271173654\"></div>\n",
              "<script type=\"text/javascript\">\n",
              "\n",
              "var ldavis_el901620424219594729271173654_data = {\"mdsDat\": {\"x\": [0.4376151990725324, 0.017077860393267735, -0.031026592912750152, -0.05119039000197912, -0.08856181645771337, -0.0754272842070698, -0.005279484697950489, -0.06936383180043086, -0.07144152943580899, -0.062402129952096624], \"y\": [0.051680462358415974, -0.29568965500094796, 0.16002807240228883, 0.09283474434629971, 0.09441094813731446, 0.020934769952646128, -0.10146962606009223, -0.005000237072499065, -0.011319463915587639, -0.006410015147837744], \"topics\": [1, 2, 3, 4, 5, 6, 7, 8, 9, 10], \"cluster\": [1, 1, 1, 1, 1, 1, 1, 1, 1, 1], \"Freq\": [49.28876912658421, 8.583579695492313, 8.452217693905583, 6.61917573992757, 5.870065859487507, 5.632514701926124, 4.8561000021607, 4.493098815804151, 4.217579411816133, 1.9868989528957195]}, \"tinfo\": {\"Term\": [\"electronico\", \"firma\", \"pago\", \"video\", \"factura\", \"plan\", \"hacer\", \"ayuda\", \"realizar\", \"ayudar\", \"necesitar\", \"estimado\", \"renovacion\", \"descargar\", \"clave\", \"enviar\", \"renovar\", \"indicar\", \"contar\", \"contratar\", \"disculpe\", \"saludo\", \"querer\", \"correo\", \"cuenta\", \"disculpar\", \"gracias\", \"electronica\", \"subir\", \"requisito\", \"electronico\", \"firma\", \"ayudar\", \"necesitar\", \"renovar\", \"querer\", \"desear\", \"facturacion\", \"sacar\", \"servicio\", \"dia\", \"obtener\", \"ano\", \"primera_vez\", \"adquirir\", \"gracia\", \"informacion\", \"sistema\", \"acceder\", \"numero\", \"solicitar\", \"precio\", \"descargo\", \"costo\", \"documento\", \"esperar\", \"acerca\", \"digital\", \"solo\", \"usuario\", \"saber\", \"hacer\", \"correo\", \"pago\", \"realizar\", \"requisito\", \"porfavor\", \"archivo\", \"hoy\", \"token\", \"comprobante\", \"transferencia\", \"subi\", \"procesar\", \"recordar\", \"posible\", \"proceder\", \"remito\", \"dispongo\", \"remoto\", \"hora\", \"manera\", \"adjuntar\", \"volver\", \"cobro\", \"agendada\", \"illingworth\", \"manana\", \"reagendar \\u00e9l\", \"respectivo\", \"realizado\", \"recibido\", \"color\", \"envio\", \"hacer\", \"proceso\", \"factura\", \"contar\", \"cuenta\", \"electronica\", \"interesado\", \"llegar\", \"solicitud\", \"ayudemir\", \"bancario\", \"dato\", \"requerir\", \"decir\", \"buen\", \"seguir\", \"estimar\", \"registrar\", \"incorrecto\", \"urgente\", \"llevar\", \"tratar\", \"octubre\", \"tranferencia\", \"banco\", \"cancelar\", \"embargo\", \"usar\", \"emitir\", \"intentar\", \"consultar \\u00e9l\", \"presencial\", \"correo\", \"salir\", \"plan\", \"indicar\", \"saludo\", \"subir\", \"tiempo\", \"cuanto\", \"adjunto\", \"interesar\", \"basico\", \"deposito\", \"preguntar\", \"vez\", \"informar\", \"ingresar\", \"demorar\", \"ahora\", \"respecto\", \"certificado\", \"recibo\", \"duro\", \"nuevamente\", \"obtencion\", \"tal\", \"proceso\", \"saludar\", \"esencial\", \"subido\", \"armar\", \"tutorial\", \"enviemar\", \"podrio\", \"ayuda\", \"correo\", \"descargar\", \"cambiar\", \"momento\", \"contrasena\", \"pasar\", \"acceso\", \"error\", \"vigente\", \"tener\", \"solicito\", \"disponible\", \"facturero\", \"permitir\", \"respuesta\", \"opcion\", \"registrado\", \"sale\", \"invitacion\", \"martes\", \"pm\", \"flor\", \"llamar\", \"margarita\", \"beunso\", \"cambair\", \"asignar\", \"asistir yo\", \"registre\", \"beunas\", \"cedulo\", \"salir\", \"ayuda\", \"contras\\u00e9n\", \"consulta\", \"clave\", \"contratar\", \"disculpar\", \"ayudemar\", \"ubicado\", \"comprobant\", \"oficina\", \"persona\", \"quito\", \"datar\", \"anual\", \"valer\", \"electr\", \"promo\", \"recuperar\", \"cambio\", \"olvidar\", \"menos\", \"contacto\", \"mensual\", \"direccion\", \"tercero\", \"lectronico\", \"olvido\", \"gustariar\", \"cordial\", \"generar\", \"comprar\", \"ver\", \"parte\", \"contras\\u00e9n\", \"video\", \"enviar\", \"disculpe\", \"poner\", \"ofrecer\", \"brindar\", \"explicar\", \"acabar\", \"indicaci\\u00f3n\", \"abrir\", \"mensaje\", \"mismo\", \"subo\", \"aprobado\", \"escritura\", \"pasaporte\", \"imprimir\", \"venta\", \"paquet\", \"entender\", \"indicar yo\", \"faltar\", \"quedar\", \"aplicativo\", \"natutal\", \"masivo\", \"electonico\", \"texto\", \"foto\", \"mas\", \"podrio\", \"hacer\", \"gracias\", \"paso\", \"nombre\", \"paquete\", \"tambien\", \"tramite\", \"agradecer\", \"recibi\", \"necesito\", \"link\", \"hacer \\u00e9l\", \"tema\", \"cedula\", \"instalar\", \"deseo\", \"firmo\", \"tramit\", \"linea\", \"perdido\", \"reportar\", \"nunca\", \"cedular\", \"escribir\", \"realizar \\u00e9l\", \"web\", \"ilimitado\", \"deberiar\", \"jessico\", \"pagina\", \"citar\", \"consulta\", \"estimado\", \"saber\", \"renovacion\", \"funcionar\", \"dar\", \"caduco\", \"nuevo\", \"descarga\", \"enviado\", \"costar\", \"pedir\", \"actualizar\", \"descuento\", \"procedimiento\", \"programa\", \"electrico\", \"fimo\", \"credencial\", \"suponer\", \"cuado\", \"fcaturacion\", \"minimo\", \"comunicar\", \"anterior\", \"internet\", \"estimado\", \"renuevo\", \"registro\", \"llenir\", \"molestar\", \"agendado\", \"cita\", \"persona_natural\", \"pagar\", \"ayudar yo\", \"valor\", \"medio\", \"gestionar\", \"cliente\", \"computadora\", \"tanto\", \"amable\", \"existir\", \"serio\", \"blanco\", \"insertar\", \"contesta\", \"llamado\", \"telefonos\", \"diferenciar\", \"bondad\", \"dicho\", \"mayor\", \"ayudariar\", \"ncewiyo\", \"credito\", \"perfectamente\", \"reproducir\", \"enseguida\", \"caber\", \"urgencia\", \"fvaor\", \"marco\"], \"Freq\": [550.0, 502.0, 84.0, 50.0, 61.0, 48.0, 100.0, 51.0, 47.0, 179.0, 158.0, 33.0, 24.0, 27.0, 23.0, 21.0, 116.0, 23.0, 26.0, 21.0, 19.0, 21.0, 104.0, 43.0, 20.0, 17.0, 15.0, 20.0, 18.0, 19.0, 550.2987049397145, 502.04796952799813, 179.2736736725967, 157.37734849205992, 116.09922213135336, 104.04351814455593, 53.725128573209666, 47.847957533840955, 37.22634624795248, 35.04248721774943, 34.84484067512061, 28.17310840672332, 26.374726096856545, 25.998291025803617, 34.199314438782466, 23.219014762750337, 22.069658522806883, 21.493059702084025, 18.836315979024373, 18.019362250388234, 16.91287030890878, 16.69541653978393, 15.5968920412399, 14.802025133676834, 14.359496670668468, 14.040053939171615, 13.014148512390175, 12.050753727129557, 11.862453274753657, 11.508303035160518, 20.38431044219603, 63.639117565486366, 24.618255160467708, 84.0646674065052, 46.74145526578259, 19.163651446954663, 19.01865446899802, 16.88057793277456, 14.10209879564405, 12.573905442193698, 11.897678172059644, 9.707093960572008, 6.075886228816815, 5.887783008126916, 5.759559123750384, 5.692853824135943, 4.288584291290243, 3.9684088532892337, 3.955866856940956, 3.8823299904940627, 3.3136883676277122, 2.7911217815231684, 2.720387758367841, 2.699535724984871, 2.6990279588337804, 2.616156471191634, 2.616156471191634, 2.616156471191634, 2.616156471191634, 2.3909201566977933, 2.390730283192229, 2.2569097640909477, 2.0485752088784936, 3.3789630425770696, 23.440264871056385, 3.389242936411832, 60.56617515922375, 25.530792093212227, 19.83093663375011, 19.51653887031719, 18.408999056608653, 17.961125451217182, 12.426866928016896, 11.771530051366808, 9.40225575885473, 8.991252779271772, 8.925609924537671, 8.742583608317732, 8.389968032928161, 7.061187486597282, 6.567905558683445, 5.895233528705649, 5.539307287923685, 4.661541234664242, 4.295338773393145, 4.190942458019674, 4.153312076948032, 3.916764185772962, 3.710876451685704, 3.5447848256142787, 3.516622098676319, 3.4732124842735446, 3.171410104881558, 3.0239704705198807, 2.8824868505324037, 2.4091926404808612, 12.508641212097574, 4.283457729077264, 47.80625319602176, 22.964085338729124, 20.545624974685328, 17.314064995777557, 12.201474823236083, 7.233836605510976, 6.235499478415471, 6.213630574692155, 6.117284678233346, 5.084846859535842, 4.8877136103385705, 4.701477252416248, 4.688242962506473, 4.591001262674392, 4.37741946804989, 3.792480806161105, 3.7609418795304643, 3.4056449884379907, 2.9965334160346457, 2.9395935609517867, 2.9078402398217915, 2.8622270621963093, 2.5936658756783957, 14.664549186819999, 2.4839826469922937, 2.347001181633328, 2.152276131114853, 2.0827340344021006, 2.0827340344021006, 2.0824849046699048, 3.8429097163550363, 13.181378012121963, 5.472569505978767, 26.394967682217384, 13.029582634525848, 11.274305970132986, 10.650109472720594, 6.282898240534917, 4.952126391180096, 4.723224117702841, 4.334440624242705, 4.136812377976699, 3.5081508996024358, 3.4728970936913646, 3.4621318527375426, 3.1678537330395993, 2.8287306616224113, 2.6444932313698017, 2.609864941376146, 2.1362134998861357, 2.0647304723379203, 2.0647304723379203, 2.0647304723379203, 2.064485218217614, 2.064485218217614, 2.064485218217614, 2.063555050697631, 2.0634580692005384, 2.0636860788905107, 2.0636860788905107, 2.0636860788905107, 2.061821911754915, 2.056940558864038, 14.3048568958638, 37.870332508534794, 10.050935970217513, 5.659235288744825, 22.310055992065042, 21.04180400170028, 16.338030825101736, 15.007916692080663, 9.864976383064487, 9.449585411587682, 6.8378241962456805, 6.352240091815736, 5.751275703355034, 4.98550003587975, 3.9769269420869726, 3.7885623859624147, 3.625708694502809, 3.3530601086162837, 3.3387607531991597, 3.306492096038393, 3.2173583630228992, 3.026004957354424, 2.840434085998038, 2.821069497531565, 2.70592510831671, 2.6024399759438936, 2.6018021548289574, 2.5741142129481887, 2.362765893157082, 2.2807392693012383, 2.1721309201413512, 1.9481130122343464, 1.923672018242231, 1.8862917410419375, 10.566929209005966, 49.92039922660307, 20.638502888804283, 19.086430318972052, 6.753146896055768, 4.000693295644029, 3.9227398279612036, 3.6036089873899644, 3.538627320862467, 3.2554104751656454, 3.2562293515103384, 2.885180824023837, 2.4625867374666233, 2.3304423353148644, 1.927676615185084, 1.9102422061953668, 1.8782100704909888, 1.6690639798027227, 1.6690639798027227, 1.6686049164558243, 1.6518528231339007, 1.6127424549158078, 1.3066779106111441, 1.2467555733044156, 1.036808773718651, 1.036808773718651, 1.0365688171006708, 1.0364166494892686, 1.0038037041559533, 0.982462257621393, 9.63395680298542, 2.7680322473457353, 13.115564432500324, 14.845891172226306, 12.304215778126226, 11.175110443349967, 10.630217781397302, 10.069007590201256, 8.090841101179018, 5.182921109758575, 4.6940288002407895, 4.568873892454976, 4.352504176702298, 4.267515390609631, 4.077186032780587, 4.017635173706137, 3.8196493026394696, 2.916280920121256, 2.891216635642131, 2.464987293617684, 2.2294954732829186, 2.068268943294827, 2.068268943294827, 2.063548096165965, 1.767228015044754, 1.7417394341919814, 1.730694754777875, 1.6761704708760465, 1.5783634442711314, 1.4793279775671344, 1.4777443965522745, 1.4731205701310268, 1.16335240360151, 7.821088335801518, 8.320166465841472, 1.7270914508229966, 23.428025639946096, 10.605585634268559, 10.156941941078017, 8.110832357551763, 6.666977135171172, 4.487203201941235, 4.096612618026281, 3.7219040289831553, 3.6713759540836817, 3.4744631927332867, 3.278910359492349, 3.0248541433174054, 2.7845160245692924, 2.4165365487318486, 2.027770144976801, 2.027218845666893, 2.027218845666893, 2.026280175462701, 2.026405769197152, 2.026405769197152, 2.0224215038809836, 2.0215220155332396, 1.9747979694102757, 24.924409965224626, 1.6876362614444402, 1.5318009112183717, 1.4529005127868693, 1.4529005127868693, 1.450555002142392, 1.450555002142392, 6.73028012773101, 5.446343479939619, 5.306019008319096, 4.500710299919496, 3.5239154999298647, 2.6616040033876804, 2.4836512340947343, 2.442971788422633, 2.3334886560299894, 2.051648188609343, 1.9473230727958808, 1.5103804202463929, 1.4769799281393843, 1.4769799281393843, 1.47649581531746, 1.47649581531746, 1.47649581531746, 1.475638041630304, 1.126485437896152, 1.0568857387903436, 1.056645677898021, 0.6917918845171921, 0.6572191748734204, 0.6570028606529069, 0.6570028606529069, 0.6570028606529069, 0.5216341099094933, 0.5214845956754346, 0.5214845956754346, 0.5212417909449827, 1.4768266723078767], \"Total\": [550.0, 502.0, 84.0, 50.0, 61.0, 48.0, 100.0, 51.0, 47.0, 179.0, 158.0, 33.0, 24.0, 27.0, 23.0, 21.0, 116.0, 23.0, 26.0, 21.0, 19.0, 21.0, 104.0, 43.0, 20.0, 17.0, 15.0, 20.0, 18.0, 19.0, 550.975885357192, 502.725162273207, 179.95088716949638, 158.05453982361044, 116.77637064502522, 104.72069397618631, 54.40235785459342, 48.52515629566938, 37.90350664604622, 35.71974958875939, 35.522054732230785, 28.850263067979157, 27.051930481774804, 26.67541809984871, 35.1307349488648, 23.89625579485312, 22.74688536826847, 22.170313064912897, 19.513666291287162, 18.696619417407824, 17.59010673727407, 17.37258356900182, 16.27411510765178, 15.479168044049915, 15.036700625571838, 14.71749414038449, 13.69132655159246, 12.728022277913098, 12.539766701632127, 12.185647908125825, 22.713356853957816, 100.70023544938532, 43.11626166948052, 84.7543319155128, 47.431126631475465, 19.853414079979338, 19.708426543885228, 17.570297468450608, 14.791840432871735, 13.26359828635972, 12.587328242162636, 10.39677354809806, 6.765552745766697, 6.577458452322976, 6.4493282542284645, 6.3828121238469055, 4.978342754904044, 4.658161393931223, 4.645673470716076, 4.572071417273714, 4.003668901155873, 3.480825605767303, 3.4100223909728578, 3.389307202317117, 3.388804625669907, 3.305949786511858, 3.305949786511858, 3.305949786511858, 3.305949786511858, 3.080546525629957, 3.080393903940976, 2.946644902538541, 2.738263919651993, 5.008448442505584, 100.70023544938532, 18.667713726055148, 61.2583450000131, 26.2229867141373, 20.52317465225746, 20.208660527827572, 19.101227206291167, 18.65328019943094, 13.119039721460053, 12.46369532908885, 10.09442084679866, 9.68345934403143, 9.617750153766222, 9.43476587096165, 9.082141515811342, 7.753405564560753, 7.2600251558081865, 6.587469091290334, 6.231451895477848, 5.3538421269889795, 4.987514403199935, 4.883186743634136, 4.84548564197485, 4.608940588243856, 4.402977168859379, 4.236896744536689, 4.208858031932816, 4.165332956412277, 3.863724943421621, 3.716100337026109, 3.5746987901067766, 3.1014220713905445, 43.11626166948052, 19.20543195064426, 48.50733182959696, 23.665163735212673, 21.246701839627143, 18.015155753155693, 12.902517602547851, 7.93491596334222, 6.9365607856970195, 6.91472357533199, 6.818470567032821, 5.785876880903867, 5.588769106025181, 5.402576234635654, 5.389347138404986, 5.292220743703464, 5.078427205415416, 4.4935625372871035, 4.462052612736342, 4.106734756237987, 3.697788994633306, 3.640625242080939, 3.6088884304889506, 3.563255419142816, 3.294910393915376, 18.667713726055148, 3.1850546567204434, 3.048116812671912, 2.853376920826138, 2.7840386204221477, 2.7840386204221477, 2.7838536803213696, 7.227233378752917, 51.68030730055827, 43.11626166948052, 27.096706188867156, 13.731296437659587, 11.976036182386785, 11.351854298835901, 6.984648342575585, 5.653903243332344, 5.424934200934447, 5.036346868894933, 4.838595647090786, 4.2098712336791255, 4.174727862962268, 4.164067937970623, 3.8695808764682242, 3.5305341311895604, 3.3462158247205616, 3.3116259941876764, 2.837950855438122, 2.766634831393929, 2.766634831393929, 2.766634831393929, 2.766326779587448, 2.766326779587448, 2.766326779587448, 2.765583006414583, 2.765595212032328, 2.7659994729783923, 2.7659994729783923, 2.7659994729783923, 2.7640495777011727, 2.7587641988754137, 19.20543195064426, 51.68030730055827, 21.252561930017663, 14.106930586279287, 23.019832935586095, 21.75155485718601, 17.047789344399813, 15.717645057039917, 10.574697954892232, 10.159329441812792, 7.5475642646621885, 7.061991856182637, 6.460981148410585, 5.695323054660968, 4.686637319110008, 4.498906713960708, 4.3355388670016035, 4.062874799110172, 4.048499154442977, 4.0162008308989625, 3.9270657664026745, 3.735726240871854, 3.5501626599578993, 3.530819969573036, 3.4156286701349825, 3.3121732090355884, 3.311677161758624, 3.283902756858642, 3.0724928839906664, 2.990523040012561, 2.8818528366949354, 2.6578768422248036, 2.6335101876508147, 2.5961521716333618, 21.252561930017663, 50.612419877000775, 21.33051441952981, 19.77846382832968, 7.445241779110982, 4.692698680581013, 4.614769914297266, 4.295878932619501, 4.2306837644030795, 3.9478671776723906, 3.9489715788450983, 3.57786171902862, 3.1546060009079815, 3.0228317219038576, 2.619884058657144, 2.6022451978035157, 2.5703270794001183, 2.361306122227337, 2.361306122227337, 2.3608861603884534, 2.3439228437166104, 2.304849779784133, 1.998705835993974, 1.938746278296242, 1.7289902157228585, 1.7289902157228585, 1.7286928156947512, 1.728643887705344, 1.695788988508271, 1.6744460663357286, 16.873881207536655, 7.227233378752917, 100.70023544938532, 15.547515506344546, 13.005835361346241, 11.87677527749292, 11.331865681346416, 10.770650048892506, 8.792483861944328, 5.884675153395283, 5.395726090818765, 5.27050576031632, 5.054203577227457, 4.969138040220987, 4.77877473934762, 4.719217873321673, 4.521249795455812, 3.6182625885910475, 3.5928278772996407, 3.1667264068147367, 2.9311401017984076, 2.7701539226197456, 2.7701539226197456, 2.7659832495290164, 2.4689148600259165, 2.443332982843477, 2.432377075112985, 2.377759123690214, 2.2799412692956746, 2.181152445927025, 2.1800350920104816, 2.174716403694702, 1.8653694549394244, 14.106930586279287, 33.87247009547262, 22.713356853957816, 24.1310784410801, 11.308666747923505, 10.860039575083869, 8.813884972925585, 7.370195581463622, 5.190410787941148, 4.799731668719355, 4.424965787322001, 4.374466560241445, 4.1775373467884815, 3.9819568868692876, 3.7279526134223073, 3.487598512137691, 3.1198950727728776, 2.730950139044222, 2.7305986669998887, 2.7305986669998887, 2.7296259541102845, 2.7301970316785393, 2.7301970316785393, 2.7254913607124527, 2.7248357702534935, 2.6778610053998624, 33.87247009547262, 2.3906621147951292, 2.234834745677685, 2.156050979946621, 2.156050979946621, 2.1540959710179903, 2.1540959710179903, 7.4534169897919575, 6.169446096402495, 6.029162459596356, 5.223816767716146, 4.247129401612326, 3.3847584451397905, 3.206838722329812, 3.1661817782069868, 3.056572569884085, 2.7747336091018266, 2.670433491520155, 2.233474560923068, 2.2004092659869694, 2.2004092659869694, 2.1999618319001053, 2.1999618319001053, 2.1999618319001053, 2.1991849985876315, 1.8496906555817834, 1.7803623634541768, 1.7800661490773355, 1.4148821430401997, 1.3803567333483244, 1.380445400353468, 1.380445400353468, 1.380445400353468, 1.244835368744778, 1.2447484282268393, 1.2447484282268393, 1.2444357521491347, 3.9771417425263467], \"Category\": [\"Default\", \"Default\", \"Default\", \"Default\", \"Default\", \"Default\", \"Default\", \"Default\", \"Default\", \"Default\", \"Default\", \"Default\", \"Default\", \"Default\", \"Default\", \"Default\", \"Default\", \"Default\", \"Default\", \"Default\", \"Default\", \"Default\", \"Default\", \"Default\", \"Default\", \"Default\", \"Default\", \"Default\", \"Default\", \"Default\", \"Topic1\", \"Topic1\", \"Topic1\", \"Topic1\", \"Topic1\", \"Topic1\", \"Topic1\", \"Topic1\", \"Topic1\", \"Topic1\", \"Topic1\", \"Topic1\", \"Topic1\", \"Topic1\", \"Topic1\", \"Topic1\", \"Topic1\", \"Topic1\", \"Topic1\", \"Topic1\", \"Topic1\", \"Topic1\", \"Topic1\", \"Topic1\", \"Topic1\", \"Topic1\", \"Topic1\", \"Topic1\", \"Topic1\", \"Topic1\", \"Topic1\", \"Topic1\", \"Topic1\", \"Topic2\", \"Topic2\", \"Topic2\", \"Topic2\", \"Topic2\", \"Topic2\", \"Topic2\", \"Topic2\", \"Topic2\", \"Topic2\", \"Topic2\", \"Topic2\", \"Topic2\", \"Topic2\", \"Topic2\", \"Topic2\", \"Topic2\", \"Topic2\", \"Topic2\", \"Topic2\", \"Topic2\", \"Topic2\", \"Topic2\", \"Topic2\", \"Topic2\", \"Topic2\", \"Topic2\", \"Topic2\", \"Topic2\", \"Topic2\", \"Topic2\", \"Topic2\", \"Topic2\", \"Topic3\", \"Topic3\", \"Topic3\", \"Topic3\", \"Topic3\", \"Topic3\", \"Topic3\", \"Topic3\", \"Topic3\", \"Topic3\", \"Topic3\", \"Topic3\", \"Topic3\", \"Topic3\", \"Topic3\", \"Topic3\", \"Topic3\", \"Topic3\", \"Topic3\", \"Topic3\", \"Topic3\", \"Topic3\", \"Topic3\", \"Topic3\", \"Topic3\", \"Topic3\", \"Topic3\", \"Topic3\", \"Topic3\", \"Topic3\", \"Topic3\", \"Topic3\", \"Topic4\", \"Topic4\", \"Topic4\", \"Topic4\", \"Topic4\", \"Topic4\", \"Topic4\", \"Topic4\", \"Topic4\", \"Topic4\", \"Topic4\", \"Topic4\", \"Topic4\", \"Topic4\", \"Topic4\", \"Topic4\", \"Topic4\", \"Topic4\", \"Topic4\", \"Topic4\", \"Topic4\", \"Topic4\", \"Topic4\", \"Topic4\", \"Topic4\", \"Topic4\", \"Topic4\", \"Topic4\", \"Topic4\", \"Topic4\", \"Topic4\", \"Topic4\", \"Topic4\", \"Topic5\", \"Topic5\", \"Topic5\", \"Topic5\", \"Topic5\", \"Topic5\", \"Topic5\", \"Topic5\", \"Topic5\", \"Topic5\", \"Topic5\", \"Topic5\", \"Topic5\", \"Topic5\", \"Topic5\", \"Topic5\", \"Topic5\", \"Topic5\", \"Topic5\", \"Topic5\", \"Topic5\", \"Topic5\", \"Topic5\", \"Topic5\", \"Topic5\", \"Topic5\", \"Topic5\", \"Topic5\", \"Topic5\", \"Topic5\", \"Topic5\", \"Topic5\", \"Topic5\", \"Topic5\", \"Topic6\", \"Topic6\", \"Topic6\", \"Topic6\", \"Topic6\", \"Topic6\", \"Topic6\", \"Topic6\", \"Topic6\", \"Topic6\", \"Topic6\", \"Topic6\", \"Topic6\", \"Topic6\", \"Topic6\", \"Topic6\", \"Topic6\", \"Topic6\", \"Topic6\", \"Topic6\", \"Topic6\", \"Topic6\", \"Topic6\", \"Topic6\", \"Topic6\", \"Topic6\", \"Topic6\", \"Topic6\", \"Topic6\", \"Topic6\", \"Topic6\", \"Topic7\", \"Topic7\", \"Topic7\", \"Topic7\", \"Topic7\", \"Topic7\", \"Topic7\", \"Topic7\", \"Topic7\", \"Topic7\", \"Topic7\", \"Topic7\", \"Topic7\", \"Topic7\", \"Topic7\", \"Topic7\", \"Topic7\", \"Topic7\", \"Topic7\", \"Topic7\", \"Topic7\", \"Topic7\", \"Topic7\", \"Topic7\", \"Topic7\", \"Topic7\", \"Topic7\", \"Topic7\", \"Topic7\", \"Topic7\", \"Topic7\", \"Topic7\", \"Topic8\", \"Topic8\", \"Topic8\", \"Topic8\", \"Topic8\", \"Topic8\", \"Topic8\", \"Topic8\", \"Topic8\", \"Topic8\", \"Topic8\", \"Topic8\", \"Topic8\", \"Topic8\", \"Topic8\", \"Topic8\", \"Topic8\", \"Topic8\", \"Topic8\", \"Topic8\", \"Topic8\", \"Topic8\", \"Topic8\", \"Topic8\", \"Topic8\", \"Topic8\", \"Topic8\", \"Topic8\", \"Topic8\", \"Topic8\", \"Topic8\", \"Topic8\", \"Topic8\", \"Topic9\", \"Topic9\", \"Topic9\", \"Topic9\", \"Topic9\", \"Topic9\", \"Topic9\", \"Topic9\", \"Topic9\", \"Topic9\", \"Topic9\", \"Topic9\", \"Topic9\", \"Topic9\", \"Topic9\", \"Topic9\", \"Topic9\", \"Topic9\", \"Topic9\", \"Topic9\", \"Topic9\", \"Topic9\", \"Topic9\", \"Topic9\", \"Topic9\", \"Topic9\", \"Topic9\", \"Topic9\", \"Topic9\", \"Topic9\", \"Topic10\", \"Topic10\", \"Topic10\", \"Topic10\", \"Topic10\", \"Topic10\", \"Topic10\", \"Topic10\", \"Topic10\", \"Topic10\", \"Topic10\", \"Topic10\", \"Topic10\", \"Topic10\", \"Topic10\", \"Topic10\", \"Topic10\", \"Topic10\", \"Topic10\", \"Topic10\", \"Topic10\", \"Topic10\", \"Topic10\", \"Topic10\", \"Topic10\", \"Topic10\", \"Topic10\", \"Topic10\", \"Topic10\", \"Topic10\", \"Topic10\"], \"logprob\": [30.0, 29.0, 28.0, 27.0, 26.0, 25.0, 24.0, 23.0, 22.0, 21.0, 20.0, 19.0, 18.0, 17.0, 16.0, 15.0, 14.0, 13.0, 12.0, 11.0, 10.0, 9.0, 8.0, 7.0, 6.0, 5.0, 4.0, 3.0, 2.0, 1.0, -1.5747, -1.6665, -2.6963, -2.8266, -3.1308, -3.2404, -3.9013, -4.0172, -4.2682, -4.3286, -4.3343, -4.5468, -4.6128, -4.6272, -4.353, -4.7402, -4.791, -4.8175, -4.9494, -4.9938, -5.0571, -5.0701, -5.1381, -5.1904, -5.2208, -5.2433, -5.3192, -5.3961, -5.4118, -5.4421, -4.8704, -3.732, -4.6817, -1.7058, -2.2927, -3.1843, -3.1919, -3.3112, -3.491, -3.6057, -3.661, -3.8645, -4.333, -4.3645, -4.3865, -4.3981, -4.6814, -4.759, -4.7622, -4.7809, -4.9393, -5.1109, -5.1366, -5.1443, -5.1445, -5.1756, -5.1756, -5.1756, -5.1756, -5.2657, -5.2658, -5.3234, -5.4202, -4.9198, -2.9829, -4.9167, -2.0182, -2.882, -3.1347, -3.1507, -3.2091, -3.2337, -3.6021, -3.6562, -3.881, -3.9257, -3.933, -3.9537, -3.9949, -4.1673, -4.2397, -4.3478, -4.4101, -4.5826, -4.6644, -4.689, -4.698, -4.7567, -4.8107, -4.8565, -4.8644, -4.8769, -4.9678, -5.0154, -5.0633, -5.2426, -3.5955, -4.6672, -2.0103, -2.7435, -2.8548, -3.026, -3.3759, -3.8987, -4.0472, -4.0507, -4.0664, -4.2512, -4.2907, -4.3296, -4.3324, -4.3534, -4.401, -4.5445, -4.5528, -4.652, -4.78, -4.7992, -4.8101, -4.8259, -4.9244, -3.192, -4.9676, -5.0243, -5.1109, -5.1438, -5.1438, -5.1439, -4.5312, -3.2987, -4.1777, -2.4842, -3.1901, -3.3348, -3.3918, -3.9195, -4.1576, -4.2049, -4.2908, -4.3374, -4.5023, -4.5124, -4.5155, -4.6043, -4.7175, -4.7849, -4.7981, -4.9983, -5.0324, -5.0324, -5.0324, -5.0325, -5.0325, -5.0325, -5.0329, -5.033, -5.0329, -5.0329, -5.0329, -5.0338, -5.0361, -3.0968, -2.1232, -3.4497, -4.0241, -2.611, -2.6695, -2.9226, -3.0075, -3.4271, -3.4701, -3.7936, -3.8672, -3.9666, -4.1095, -4.3355, -4.3841, -4.428, -4.5062, -4.5105, -4.5202, -4.5475, -4.6088, -4.6721, -4.6789, -4.7206, -4.7596, -4.7599, -4.7706, -4.8562, -4.8916, -4.9403, -5.0492, -5.0618, -5.0814, -3.3583, -1.6573, -2.5406, -2.6188, -3.6577, -4.1813, -4.2009, -4.2858, -4.304, -4.3874, -4.3872, -4.5081, -4.6665, -4.7217, -4.9114, -4.9205, -4.9374, -5.0555, -5.0555, -5.0557, -5.0658, -5.0898, -5.3002, -5.3472, -5.5316, -5.5316, -5.5318, -5.532, -5.5639, -5.5854, -3.3024, -4.5496, -2.9939, -2.7923, -2.9801, -3.0764, -3.1263, -3.1806, -3.3993, -3.8447, -3.9438, -3.9708, -4.0193, -4.039, -4.0846, -4.0994, -4.1499, -4.4197, -4.4284, -4.5879, -4.6883, -4.7633, -4.7633, -4.7656, -4.9206, -4.9352, -4.9415, -4.9735, -5.0337, -5.0985, -5.0995, -5.1027, -5.3387, -3.4332, -3.3714, -4.9436, -2.2728, -3.0654, -3.1086, -3.3336, -3.5296, -3.9255, -4.0166, -4.1125, -4.1262, -4.1813, -4.2393, -4.3199, -4.4027, -4.5444, -4.7198, -4.7201, -4.7201, -4.7206, -4.7205, -4.7205, -4.7225, -4.7229, -4.7463, -2.2109, -4.9034, -5.0003, -5.0532, -5.0532, -5.0548, -5.0548, -2.7675, -2.9791, -3.0052, -3.1698, -3.4145, -3.6951, -3.7643, -3.7809, -3.8267, -3.9554, -4.0076, -4.2617, -4.2841, -4.2841, -4.2844, -4.2844, -4.2844, -4.285, -4.555, -4.6187, -4.619, -5.0425, -5.0938, -5.0941, -5.0941, -5.0941, -5.3249, -5.3252, -5.3252, -5.3256, -4.2842], \"loglift\": [30.0, 29.0, 28.0, 27.0, 26.0, 25.0, 24.0, 23.0, 22.0, 21.0, 20.0, 19.0, 18.0, 17.0, 16.0, 15.0, 14.0, 13.0, 12.0, 11.0, 10.0, 9.0, 8.0, 7.0, 6.0, 5.0, 4.0, 3.0, 2.0, 1.0, 0.7062, 0.7061, 0.7037, 0.7032, 0.7017, 0.701, 0.6949, 0.6934, 0.6894, 0.6883, 0.6882, 0.6837, 0.6821, 0.6818, 0.6806, 0.6787, 0.6772, 0.6764, 0.6721, 0.6706, 0.6682, 0.6677, 0.665, 0.6627, 0.6614, 0.6604, 0.6567, 0.6528, 0.6519, 0.6503, 0.5993, 0.2486, 0.1471, 2.4471, 2.4407, 2.42, 2.4197, 2.4153, 2.4076, 2.4019, 2.399, 2.3867, 2.3478, 2.3446, 2.3422, 2.3409, 2.3062, 2.2951, 2.2946, 2.2918, 2.2662, 2.2345, 2.2294, 2.2278, 2.2277, 2.2213, 2.2213, 2.2213, 2.2213, 2.2019, 2.2019, 2.1886, 2.1651, 2.0618, 0.9976, 0.7491, 2.4594, 2.444, 2.4364, 2.4359, 2.4338, 2.4329, 2.4165, 2.4136, 2.3997, 2.3966, 2.3961, 2.3945, 2.3915, 2.3772, 2.3706, 2.3597, 2.353, 2.3323, 2.3213, 2.3179, 2.3166, 2.308, 2.2997, 2.2924, 2.2911, 2.289, 2.2733, 2.2646, 2.2555, 2.2182, 1.2333, 0.9703, 2.7006, 2.6851, 2.6816, 2.6755, 2.6593, 2.6227, 2.6087, 2.6083, 2.6067, 2.586, 2.5812, 2.5762, 2.5758, 2.5731, 2.5667, 2.5456, 2.5443, 2.528, 2.5049, 2.5013, 2.4992, 2.4961, 2.4759, 2.4738, 2.4666, 2.4538, 2.4332, 2.425, 2.425, 2.4249, 2.0836, 1.3489, 0.651, 2.8091, 2.7828, 2.7749, 2.7715, 2.7294, 2.7028, 2.6968, 2.6852, 2.6786, 2.653, 2.6512, 2.6507, 2.6352, 2.6137, 2.6, 2.5972, 2.5513, 2.5427, 2.5427, 2.5427, 2.5427, 2.5427, 2.5427, 2.5425, 2.5424, 2.5424, 2.5424, 2.5424, 2.5422, 2.5417, 2.5407, 2.5244, 2.0865, 1.9219, 2.8453, 2.8434, 2.8341, 2.8304, 2.8071, 2.8042, 2.7779, 2.7707, 2.7603, 2.7435, 2.7124, 2.7048, 2.6978, 2.6846, 2.6839, 2.6822, 2.6773, 2.6659, 2.6536, 2.6522, 2.6437, 2.6355, 2.6354, 2.6331, 2.614, 2.6057, 2.5939, 2.5659, 2.5625, 2.5572, 2.1779, 3.0112, 2.992, 2.9893, 2.9274, 2.8654, 2.8625, 2.8492, 2.8463, 2.8321, 2.832, 2.8098, 2.7773, 2.7648, 2.7181, 2.7158, 2.7112, 2.678, 2.678, 2.6779, 2.675, 2.6679, 2.5999, 2.5834, 2.5135, 2.5135, 2.5135, 2.5134, 2.5006, 2.4918, 2.4645, 2.0652, 0.9866, 3.0564, 3.0472, 3.0417, 3.0387, 3.0353, 3.0195, 2.9756, 2.9633, 2.9598, 2.9532, 2.9504, 2.9439, 2.9417, 2.934, 2.8869, 2.8854, 2.8521, 2.829, 2.8104, 2.8104, 2.8097, 2.7683, 2.7641, 2.7623, 2.753, 2.7349, 2.7144, 2.7138, 2.7131, 2.6305, 2.5128, 1.6987, 0.5261, 3.1363, 3.1017, 3.099, 3.0828, 3.0656, 3.0203, 3.0075, 2.9929, 2.9907, 2.9816, 2.9716, 2.9569, 2.9408, 2.9104, 2.8682, 2.8681, 2.8681, 2.8679, 2.8678, 2.8678, 2.8676, 2.8674, 2.8614, 2.8592, 2.8177, 2.7882, 2.7712, 2.7712, 2.7705, 2.7705, 3.8165, 3.7939, 3.7908, 3.7696, 3.7319, 3.6782, 3.663, 3.6593, 3.6487, 3.6167, 3.6028, 3.5274, 3.52, 3.52, 3.5198, 3.5198, 3.5198, 3.5196, 3.4227, 3.3971, 3.397, 3.2031, 3.1765, 3.1761, 3.1761, 3.1761, 3.0488, 3.0486, 3.0486, 3.0484, 2.9279]}, \"token.table\": {\"Topic\": [7, 7, 1, 5, 1, 9, 2, 4, 1, 2, 9, 8, 4, 10, 1, 9, 6, 7, 7, 2, 4, 5, 5, 4, 5, 1, 10, 10, 6, 3, 3, 3, 4, 5, 5, 10, 10, 7, 3, 10, 9, 5, 5, 6, 3, 8, 8, 5, 4, 9, 8, 6, 10, 2, 2, 6, 6, 2, 10, 9, 5, 8, 3, 6, 3, 10, 5, 5, 6, 6, 6, 1, 3, 4, 9, 1, 9, 10, 9, 4, 3, 9, 6, 3, 8, 3, 4, 4, 9, 5, 1, 9, 1, 8, 1, 10, 10, 1, 6, 6, 7, 2, 5, 1, 4, 7, 6, 9, 3, 1, 3, 3, 10, 7, 9, 7, 4, 2, 7, 5, 8, 7, 4, 1, 8, 9, 3, 10, 7, 3, 1, 5, 7, 9, 9, 1, 8, 5, 7, 9, 10, 6, 10, 1, 8, 6, 1, 2, 7, 8, 2, 2, 8, 2, 7, 3, 7, 4, 7, 1, 4, 4, 10, 8, 3, 3, 4, 9, 5, 8, 6, 8, 8, 10, 5, 3, 9, 3, 2, 2, 6, 10, 5, 5, 1, 7, 7, 10, 10, 6, 7, 6, 9, 7, 9, 5, 7, 10, 1, 8, 8, 4, 9, 1, 8, 4, 1, 3, 6, 7, 6, 6, 5, 10, 8, 2, 7, 8, 6, 7, 5, 8, 9, 8, 10, 5, 6, 10, 4, 5, 4, 7, 7, 2, 2, 1, 4, 3, 1, 2, 9, 2, 2, 4, 9, 6, 7, 1, 6, 2, 2, 2, 8, 8, 2, 4, 2, 6, 5, 3, 5, 9, 2, 2, 9, 1, 9, 8, 10, 3, 2, 2, 4, 5, 1, 8, 1, 5, 3, 5, 4, 4, 3, 10, 1, 1, 1, 5, 3, 1, 2, 4, 4, 7, 9, 4, 8, 10, 10, 8, 5, 6, 7, 4, 2, 8, 8, 3, 2, 3, 4, 6, 10, 3, 3, 1, 6, 10, 7, 6, 4, 7, 5, 2, 8], \"Freq\": [0.759691463993106, 0.9454736451010473, 0.9736765872891598, 0.8843448118601086, 0.9495062403933349, 0.7181264345383475, 0.8797596191572569, 0.8649819680628793, 0.9678135128538967, 0.907454799295464, 0.46423186963550955, 0.8496645727530344, 0.8901623081482511, 0.7207899141883369, 0.9611144024459363, 0.7339891900398601, 0.8534904085045778, 0.5783722723855431, 0.7633925605948861, 0.9675419571310822, 0.7183808390189419, 0.723065936757546, 0.723065936757546, 0.2515464918657628, 0.735289745453768, 0.9947158517279177, 0.8293025828225473, 0.7067726488167205, 0.9543414389092287, 0.9627963202849931, 0.8915816109305822, 0.9084762074830898, 0.8799627337265176, 0.7235760227077317, 0.7231748225821228, 0.4544609111848386, 0.5406309411697113, 0.8667821092460938, 0.8808495205753607, 0.8033751859598757, 0.9076587707434723, 0.7231716309380931, 0.9467423603459666, 0.7469745977141531, 0.9440872037199968, 0.8475980781926807, 0.8100724866547264, 0.7249622859450194, 0.7305073685226698, 0.46423186963550955, 0.5360868311379494, 0.9556976395771515, 0.6236671604573157, 0.8852679134333254, 0.7303897866258927, 0.7524803136950015, 0.8858852399213145, 0.953339721435458, 0.6316756712347081, 0.7338126360735164, 0.4253228555498623, 0.5670971407331498, 0.8392315482083987, 0.8450317034306187, 0.991496517289654, 0.4545533406533243, 0.9690046850872652, 0.47053150735092053, 0.5175846580860126, 0.9654482237191553, 0.6687793316555085, 0.5798276342147732, 0.30151036979168205, 0.11596552684295465, 0.9039617914019645, 0.9690443283071596, 0.7324401143861253, 0.7244038769979214, 0.7327011222868796, 0.8821769546569426, 0.9745081031018799, 0.9208069575494869, 0.8779133250234284, 0.9294199190857664, 0.4584732267876782, 0.9539187429865352, 0.7876454339513959, 0.8641732451138681, 0.7706519124253475, 0.959526217643466, 0.9831563740431639, 0.7533984132004689, 0.9926040364708302, 0.8291272196383627, 0.9853033633283296, 0.5616834081236396, 0.45471390567061143, 0.9428016181919768, 0.8783156161648692, 0.9385381105296206, 0.9606408346428479, 0.8610161745576679, 0.7186097150465002, 0.9310553125059366, 0.824034279970337, 0.5784881473346319, 0.9226073442553042, 0.6410471997772844, 0.9896746977593965, 0.9982288056825583, 0.950376555743102, 0.7764527868651211, 0.8033190774522608, 0.853270407497171, 0.8333799212294849, 0.9845050891399414, 0.718428563303341, 0.5989878970380667, 0.19966263234602222, 0.9216701649835214, 0.8185540055504267, 0.7685670826439205, 0.6561428327436193, 0.951248892403789, 0.2361800003794018, 0.7380625011856307, 0.9641839869383703, 0.7489420748919278, 0.9311249368847826, 0.9957826970347787, 0.9891776485485272, 0.7204493405700925, 0.5003237504946251, 0.7325478625879208, 0.7323458496755858, 0.9985575373432116, 0.8349968610950523, 0.7229803849486889, 0.5972124275034719, 0.9727052927808504, 0.8035770414607621, 0.6939979635787746, 0.8863261732333457, 0.9624938817801675, 0.9647843730323911, 0.6509372276893044, 0.6355496560101703, 0.22840065762865497, 0.12909602387706584, 0.8049685815977277, 0.7493127114317295, 0.9464677545390472, 0.8772155787231507, 0.907454799295464, 0.8469888682258064, 0.9628574689558604, 0.75990398485715, 0.971892705131681, 0.8677355103755678, 0.967165378636393, 0.9277561588804584, 0.9447829639284907, 0.4544609111848386, 0.8847111265606897, 0.8072979004654153, 0.9423478295714702, 0.8677136453299116, 0.7468647536100765, 0.7228998844752955, 0.4587082123883499, 0.9058854029137575, 0.6823283536576418, 0.7914204362528363, 0.4545533406533243, 0.7229803849486889, 0.9649777308630751, 0.463810925298602, 0.8020026964601132, 0.907454799295464, 0.8618644941675235, 0.5028737041515565, 0.25143685207577826, 0.7229803849486889, 0.7228998844752955, 0.41484231836795654, 0.592631883382795, 0.5784717741180095, 0.5617768758303345, 0.9418126037039256, 0.8030567034536908, 0.8384896442600616, 0.8496609925888616, 0.7325478625879208, 0.6339935952142187, 0.463810925298602, 0.918500899001771, 0.5783722723855431, 0.7244504089709513, 0.9933280004181638, 0.9486755593072181, 0.9261773286933825, 0.8312808937663791, 0.9497712676180967, 0.9627408890422605, 0.7230701777895995, 0.8419267347165604, 0.9705284119602063, 0.8255106496135938, 0.9274515266831324, 0.8523879908489568, 0.7639291467094786, 0.9135471486585001, 0.8965351182183613, 0.8104455281513169, 0.459830071774446, 0.9910997833566224, 0.8471395332636139, 0.9707139414922022, 0.7703708672599517, 0.7781110878957765, 0.8590267835570808, 0.922662763797886, 0.9143972059027977, 0.7219815417724486, 0.7244038769979214, 0.7752777615383781, 0.8496186518180585, 0.9391665607314138, 0.9895411309906886, 0.7228998844752955, 0.5534621327933668, 0.4150965995950251, 0.9401978078992422, 0.9640546371214487, 0.9400245352018625, 0.978553358657222, 0.8946513812155101, 0.6448654694403738, 0.9746801306985873, 0.8034802336700698, 0.8047312589754091, 0.9122064462271086, 0.1607052713591167, 0.8035263567955835, 0.8601907557762943, 0.7383934155827404, 0.5157972506226002, 0.9931179411745477, 0.9286515255467064, 0.907454799295464, 0.6492676139377019, 0.9909104703578901, 0.8222409347889036, 0.9266593440515591, 0.6787380448444927, 0.8112956159353536, 0.9303294488175781, 0.7410153455775546, 0.905899399650015, 0.9108202128694524, 0.723065936757546, 0.894920755938724, 0.85870790248086, 0.874876972587879, 0.9531277292955718, 0.9933516460501652, 0.8365883190362067, 0.7219815417724486, 0.7244038769979214, 0.935769785668188, 0.9570142406469051, 0.6492354468144284, 0.8964484167180204, 0.8497297826686624, 0.8805391527371256, 0.08805391527371256, 0.9761629799985679, 0.7047338385608657, 0.20827440956701923, 0.7289604334845673, 0.6279327093429978, 0.9883886995031379, 0.9028290783595254, 0.8954657621770378, 0.9798500942183007, 0.9472126053661798, 0.966452350398556, 0.9501478259001966, 0.9147010951091539, 0.9569556025662046, 0.8868454988772774, 0.7009238721328622, 0.9436499041659482, 0.6616312729245637, 0.7324401143861253, 0.910495170229825, 0.9284490680326442, 0.6543276674356358, 0.4545533406533243, 0.8370346413411537, 0.8266861485739166, 0.9057497330803891, 0.5896960098081935, 0.9300510465980971, 0.980126185921146, 0.6315670326606166, 0.9098680333808333, 0.8678784035973264, 0.9618368577268238, 0.8191372171491325, 0.7183808390189419, 0.9456534874713508, 0.8033751859598757, 0.9339087484098113, 0.7202305389252694, 0.9847650359237748, 0.8891048991052573, 0.9571545523764612, 0.8469888682258064, 0.7594426668172761, 0.9254843953788644, 0.9878998103926054, 0.7942264709177336, 0.8851366432494036, 0.8411280941258917], \"Term\": [\"abrir\", \"acabar\", \"acceder\", \"acceso\", \"acerca\", \"actualizar\", \"adjuntar\", \"adjunto\", \"adquirir\", \"agendada\", \"agendado\", \"agradecer\", \"ahora\", \"amable\", \"ano\", \"anterior\", \"anual\", \"aplicativo\", \"aprobado\", \"archivo\", \"armar\", \"asignar\", \"asistir yo\", \"ayuda\", \"ayuda\", \"ayudar\", \"ayudar yo\", \"ayudariar\", \"ayudemar\", \"ayudemir\", \"bancario\", \"banco\", \"basico\", \"beunas\", \"beunso\", \"blanco\", \"bondad\", \"brindar\", \"buen\", \"caber\", \"caduco\", \"cambair\", \"cambiar\", \"cambio\", \"cancelar\", \"cedula\", \"cedular\", \"cedulo\", \"certificado\", \"cita\", \"citar\", \"clave\", \"cliente\", \"cobro\", \"color\", \"comprar\", \"comprobant\", \"comprobante\", \"computadora\", \"comunicar\", \"consulta\", \"consulta\", \"consultar \\u00e9l\", \"contacto\", \"contar\", \"contesta\", \"contrasena\", \"contras\\u00e9n\", \"contras\\u00e9n\", \"contratar\", \"cordial\", \"correo\", \"correo\", \"correo\", \"costar\", \"costo\", \"credencial\", \"credito\", \"cuado\", \"cuanto\", \"cuenta\", \"dar\", \"datar\", \"dato\", \"deberiar\", \"decir\", \"demorar\", \"deposito\", \"descarga\", \"descargar\", \"descargo\", \"descuento\", \"desear\", \"deseo\", \"dia\", \"dicho\", \"diferenciar\", \"digital\", \"direccion\", \"disculpar\", \"disculpe\", \"dispongo\", \"disponible\", \"documento\", \"duro\", \"electonico\", \"electr\", \"electrico\", \"electronica\", \"electronico\", \"embargo\", \"emitir\", \"enseguida\", \"entender\", \"enviado\", \"enviar\", \"enviemar\", \"envio\", \"envio\", \"error\", \"escribir\", \"escritura\", \"esencial\", \"esperar\", \"estimado\", \"estimado\", \"estimar\", \"existir\", \"explicar\", \"factura\", \"facturacion\", \"facturero\", \"faltar\", \"fcaturacion\", \"fimo\", \"firma\", \"firmo\", \"flor\", \"foto\", \"funcionar\", \"fvaor\", \"generar\", \"gestionar\", \"gracia\", \"gracias\", \"gustariar\", \"hacer\", \"hacer\", \"hacer\", \"hacer \\u00e9l\", \"hora\", \"hoy\", \"ilimitado\", \"illingworth\", \"imprimir\", \"incorrecto\", \"indicaci\\u00f3n\", \"indicar\", \"indicar yo\", \"informacion\", \"informar\", \"ingresar\", \"insertar\", \"instalar\", \"intentar\", \"interesado\", \"interesar\", \"internet\", \"invitacion\", \"jessico\", \"lectronico\", \"linea\", \"link\", \"llamado\", \"llamar\", \"llegar\", \"llenir\", \"llevar\", \"manana\", \"manera\", \"marco\", \"marco\", \"margarita\", \"martes\", \"mas\", \"mas\", \"masivo\", \"mayor\", \"medio\", \"menos\", \"mensaje\", \"mensual\", \"minimo\", \"mismo\", \"molestar\", \"momento\", \"natutal\", \"ncewiyo\", \"necesitar\", \"necesito\", \"nombre\", \"nuevamente\", \"nuevo\", \"numero\", \"nunca\", \"obtencion\", \"obtener\", \"octubre\", \"oficina\", \"ofrecer\", \"olvidar\", \"olvido\", \"opcion\", \"pagar\", \"pagina\", \"pago\", \"paquet\", \"paquete\", \"parte\", \"pasaporte\", \"pasar\", \"paso\", \"pedir\", \"perdido\", \"perfectamente\", \"permitir\", \"persona\", \"persona_natural\", \"plan\", \"pm\", \"podrio\", \"podrio\", \"poner\", \"porfavor\", \"posible\", \"precio\", \"preguntar\", \"presencial\", \"primera_vez\", \"proceder\", \"procedimiento\", \"procesar\", \"proceso\", \"proceso\", \"programa\", \"promo\", \"quedar\", \"querer\", \"quito\", \"reagendar \\u00e9l\", \"realizado\", \"realizar\", \"realizar \\u00e9l\", \"recibi\", \"recibido\", \"recibo\", \"recordar\", \"recuperar\", \"registrado\", \"registrar\", \"registre\", \"registro\", \"remito\", \"remoto\", \"renovacion\", \"renovar\", \"renuevo\", \"reportar\", \"reproducir\", \"requerir\", \"requisito\", \"respectivo\", \"respecto\", \"respuesta\", \"saber\", \"saber\", \"sacar\", \"sale\", \"salir\", \"salir\", \"saludar\", \"saludo\", \"seguir\", \"serio\", \"servicio\", \"sistema\", \"solicitar\", \"solicito\", \"solicitud\", \"solo\", \"subi\", \"subido\", \"subir\", \"subo\", \"suponer\", \"tal\", \"tambien\", \"tanto\", \"telefonos\", \"tema\", \"tener\", \"tercero\", \"texto\", \"tiempo\", \"token\", \"tramit\", \"tramite\", \"tranferencia\", \"transferencia\", \"tratar\", \"tutorial\", \"ubicado\", \"urgencia\", \"urgente\", \"usar\", \"usuario\", \"valer\", \"valor\", \"venta\", \"ver\", \"vez\", \"video\", \"vigente\", \"volver\", \"web\"]}, \"R\": 30, \"lambda.step\": 0.01, \"plot.opts\": {\"xlab\": \"PC1\", \"ylab\": \"PC2\"}, \"topic.order\": [2, 5, 4, 1, 7, 6, 10, 3, 8, 9]};\n",
              "\n",
              "function LDAvis_load_lib(url, callback){\n",
              "  var s = document.createElement('script');\n",
              "  s.src = url;\n",
              "  s.async = true;\n",
              "  s.onreadystatechange = s.onload = callback;\n",
              "  s.onerror = function(){console.warn(\"failed to load library \" + url);};\n",
              "  document.getElementsByTagName(\"head\")[0].appendChild(s);\n",
              "}\n",
              "\n",
              "if(typeof(LDAvis) !== \"undefined\"){\n",
              "   // already loaded: just create the visualization\n",
              "   !function(LDAvis){\n",
              "       new LDAvis(\"#\" + \"ldavis_el901620424219594729271173654\", ldavis_el901620424219594729271173654_data);\n",
              "   }(LDAvis);\n",
              "}else if(typeof define === \"function\" && define.amd){\n",
              "   // require.js is available: use it to load d3/LDAvis\n",
              "   require.config({paths: {d3: \"https://d3js.org/d3.v5\"}});\n",
              "   require([\"d3\"], function(d3){\n",
              "      window.d3 = d3;\n",
              "      LDAvis_load_lib(\"https://cdn.jsdelivr.net/gh/bmabey/pyLDAvis@3.3.1/pyLDAvis/js/ldavis.v3.0.0.js\", function(){\n",
              "        new LDAvis(\"#\" + \"ldavis_el901620424219594729271173654\", ldavis_el901620424219594729271173654_data);\n",
              "      });\n",
              "    });\n",
              "}else{\n",
              "    // require.js not available: dynamically load d3 & LDAvis\n",
              "    LDAvis_load_lib(\"https://d3js.org/d3.v5.js\", function(){\n",
              "         LDAvis_load_lib(\"https://cdn.jsdelivr.net/gh/bmabey/pyLDAvis@3.3.1/pyLDAvis/js/ldavis.v3.0.0.js\", function(){\n",
              "                 new LDAvis(\"#\" + \"ldavis_el901620424219594729271173654\", ldavis_el901620424219594729271173654_data);\n",
              "            })\n",
              "         });\n",
              "}\n",
              "</script>"
            ],
            "text/plain": [
              "PreparedData(topic_coordinates=              x         y  topics  cluster       Freq\n",
              "topic                                                \n",
              "1      0.437615  0.051680       1        1  49.288769\n",
              "4      0.017078 -0.295690       2        1   8.583580\n",
              "3     -0.031027  0.160028       3        1   8.452218\n",
              "0     -0.051190  0.092835       4        1   6.619176\n",
              "6     -0.088562  0.094411       5        1   5.870066\n",
              "5     -0.075427  0.020935       6        1   5.632515\n",
              "9     -0.005279 -0.101470       7        1   4.856100\n",
              "2     -0.069364 -0.005000       8        1   4.493099\n",
              "7     -0.071442 -0.011319       9        1   4.217579\n",
              "8     -0.062402 -0.006410      10        1   1.986899, topic_info=            Term        Freq       Total Category  logprob  loglift\n",
              "2    electronico  550.000000  550.000000  Default  30.0000  30.0000\n",
              "3          firma  502.000000  502.000000  Default  29.0000  29.0000\n",
              "51          pago   84.000000   84.000000  Default  28.0000  28.0000\n",
              "57         video   50.000000   50.000000  Default  27.0000  27.0000\n",
              "58       factura   61.000000   61.000000  Default  26.0000  26.0000\n",
              "..           ...         ...         ...      ...      ...      ...\n",
              "597    enseguida    0.521634    1.244835  Topic10  -5.3249   3.0488\n",
              "618        caber    0.521485    1.244748  Topic10  -5.3252   3.0486\n",
              "620     urgencia    0.521485    1.244748  Topic10  -5.3252   3.0486\n",
              "629        fvaor    0.521242    1.244436  Topic10  -5.3256   3.0484\n",
              "850        marco    1.476827    3.977142  Topic10  -4.2842   2.9279\n",
              "\n",
              "[352 rows x 6 columns], token_table=      Topic      Freq     Term\n",
              "term                          \n",
              "813       7  0.759691    abrir\n",
              "353       7  0.945474   acabar\n",
              "228       1  0.973677  acceder\n",
              "208       5  0.884345   acceso\n",
              "102       1  0.949506   acerca\n",
              "...     ...       ...      ...\n",
              "270       4  0.925484      vez\n",
              "57        7  0.987900    video\n",
              "558       5  0.794226  vigente\n",
              "675       2  0.885137   volver\n",
              "556       8  0.841128      web\n",
              "\n",
              "[325 rows x 3 columns], R=30, lambda_step=0.01, plot_opts={'xlab': 'PC1', 'ylab': 'PC2'}, topic_order=[2, 5, 4, 1, 7, 6, 10, 3, 8, 9])"
            ]
          },
          "execution_count": 94,
          "metadata": {},
          "output_type": "execute_result"
        }
      ],
      "source": [
        "pyLDAvis.enable_notebook()\n",
        "vis = pyLDAvis.gensim_models.prepare(modelo_optimo, corpus, id2word)\n",
        "vis"
      ]
    },
    {
      "cell_type": "markdown",
      "id": "bd3d00b0",
      "metadata": {
        "id": "bd3d00b0"
      },
      "source": [
        "#### Conversacion que contribuyo mas a un tema"
      ]
    },
    {
      "cell_type": "code",
      "execution_count": null,
      "id": "36191d6f",
      "metadata": {
        "id": "36191d6f",
        "outputId": "4a59fd62-3e2a-4f75-d851-27bf8c77f18c"
      },
      "outputs": [
        {
          "data": {
            "text/html": [
              "<div>\n",
              "<style scoped>\n",
              "    .dataframe tbody tr th:only-of-type {\n",
              "        vertical-align: middle;\n",
              "    }\n",
              "\n",
              "    .dataframe tbody tr th {\n",
              "        vertical-align: top;\n",
              "    }\n",
              "\n",
              "    .dataframe thead th {\n",
              "        text-align: right;\n",
              "    }\n",
              "</style>\n",
              "<table border=\"1\" class=\"dataframe\">\n",
              "  <thead>\n",
              "    <tr style=\"text-align: right;\">\n",
              "      <th></th>\n",
              "      <th>Document_No</th>\n",
              "      <th>Tema_Dominante</th>\n",
              "      <th>Porce_Contribucion</th>\n",
              "      <th>Palabras</th>\n",
              "      <th>Texto</th>\n",
              "    </tr>\n",
              "  </thead>\n",
              "  <tbody>\n",
              "    <tr>\n",
              "      <th>0</th>\n",
              "      <td>0</td>\n",
              "      <td>1.0</td>\n",
              "      <td>0.4401</td>\n",
              "      <td>electronico, firma, ayudar, necesitar, renovar...</td>\n",
              "      <td>Buenos días no me han dado hasta ahora mi firm...</td>\n",
              "    </tr>\n",
              "    <tr>\n",
              "      <th>1</th>\n",
              "      <td>1</td>\n",
              "      <td>1.0</td>\n",
              "      <td>0.7592</td>\n",
              "      <td>electronico, firma, ayudar, necesitar, renovar...</td>\n",
              "      <td>Yo ya tengo mi firma electrónica con ustedes p...</td>\n",
              "    </tr>\n",
              "    <tr>\n",
              "      <th>2</th>\n",
              "      <td>2</td>\n",
              "      <td>1.0</td>\n",
              "      <td>0.4528</td>\n",
              "      <td>electronico, firma, ayudar, necesitar, renovar...</td>\n",
              "      <td>Buenas tardes, les saluda Lorena Sofia  Carvaj...</td>\n",
              "    </tr>\n",
              "    <tr>\n",
              "      <th>3</th>\n",
              "      <td>3</td>\n",
              "      <td>1.0</td>\n",
              "      <td>0.6965</td>\n",
              "      <td>electronico, firma, ayudar, necesitar, renovar...</td>\n",
              "      <td>Buenas tardes, recibi un correo para renovar l...</td>\n",
              "    </tr>\n",
              "    <tr>\n",
              "      <th>4</th>\n",
              "      <td>4</td>\n",
              "      <td>3.0</td>\n",
              "      <td>0.4780</td>\n",
              "      <td>factura, contar, cuenta, electronica, interesa...</td>\n",
              "      <td>Hola, estoy intentando registrar mi firma con ...</td>\n",
              "    </tr>\n",
              "  </tbody>\n",
              "</table>\n",
              "</div>"
            ],
            "text/plain": [
              "   Document_No  Tema_Dominante  Porce_Contribucion  \\\n",
              "0            0             1.0              0.4401   \n",
              "1            1             1.0              0.7592   \n",
              "2            2             1.0              0.4528   \n",
              "3            3             1.0              0.6965   \n",
              "4            4             3.0              0.4780   \n",
              "\n",
              "                                            Palabras  \\\n",
              "0  electronico, firma, ayudar, necesitar, renovar...   \n",
              "1  electronico, firma, ayudar, necesitar, renovar...   \n",
              "2  electronico, firma, ayudar, necesitar, renovar...   \n",
              "3  electronico, firma, ayudar, necesitar, renovar...   \n",
              "4  factura, contar, cuenta, electronica, interesa...   \n",
              "\n",
              "                                               Texto  \n",
              "0  Buenos días no me han dado hasta ahora mi firm...  \n",
              "1  Yo ya tengo mi firma electrónica con ustedes p...  \n",
              "2  Buenas tardes, les saluda Lorena Sofia  Carvaj...  \n",
              "3  Buenas tardes, recibi un correo para renovar l...  \n",
              "4  Hola, estoy intentando registrar mi firma con ...  "
            ]
          },
          "execution_count": 95,
          "metadata": {},
          "output_type": "execute_result"
        }
      ],
      "source": [
        "def temas_conversacion(ldamodel=modelo_optimo, corpus=corpus, texts=data, tip_model='LDA'):\n",
        "    data_por_temas = pd.DataFrame()\n",
        "    # Obtener tema por cada conversacion\n",
        "    for i, row in enumerate(ldamodel[corpus]):\n",
        "        if tip_model == 'LDA':\n",
        "            row = sorted(row[0], key=lambda x: (x[1]), reverse=True)\n",
        "        else:\n",
        "            row = sorted(row, key=lambda x: (x[1]), reverse=True)\n",
        "        # Obtener el tema dominante por cada conversacion\n",
        "        for j, (num_tema, tem_pro) in enumerate(row):\n",
        "            if j == 0:\n",
        "                wp = ldamodel.show_topic(num_tema)\n",
        "                palabras_tema = \", \".join([word for word, prop in wp])\n",
        "                data_por_temas = data_por_temas.append(pd.Series([int(num_tema), round(tem_pro,4), palabras_tema]), ignore_index=True)\n",
        "            else:\n",
        "                break\n",
        "    data_por_temas.columns = ['Tema_Dominante', 'Porce_Contribucion', 'Palabras_tema']\n",
        "    contents = pd.Series(texts)\n",
        "    data_por_temas = pd.concat([data_por_temas, contents], axis=1)\n",
        "    return(data_por_temas)\n",
        "\n",
        "\n",
        "df_temas_palabras = temas_conversacion(ldamodel=modelo_optimo, corpus=corpus, texts=data, tip_model='LDA')\n",
        "\n",
        "# Formatear el Dataframe\n",
        "df_tema_dominante = df_temas_palabras.reset_index()\n",
        "df_tema_dominante.columns = ['Document_No', 'Tema_Dominante', 'Porce_Contribucion', 'Palabras', 'Texto']\n",
        "\n",
        "df_tema_dominante.head()"
      ]
    },
    {
      "cell_type": "code",
      "execution_count": null,
      "id": "4618ccce",
      "metadata": {
        "id": "4618ccce"
      },
      "outputs": [],
      "source": [
        "#Conversacion principal por cada tema\n",
        "temas_conver_relevante = pd.DataFrame()\n",
        "temas_agrupados_conv = df_temas_palabras.groupby('Tema_Dominante')\n",
        "\n",
        "for i, grp in temas_agrupados_conv:\n",
        "    temas_conver_relevante = pd.concat([temas_conver_relevante, grp.sort_values(['Porce_Contribucion'], ascending=[0]).head(1)], axis=0)\n",
        "   \n",
        "temas_conver_relevante.reset_index(drop=True, inplace=True)\n",
        "temas_conver_relevante.columns = ['Numero_Tema', \"Porce_Contribucion\", \"Palabras\", \"Texto\"]\n",
        "temas_conver_relevante\n",
        "temas_conver_relevante"
      ]
    },
    {
      "cell_type": "markdown",
      "id": "937b99b3",
      "metadata": {
        "id": "937b99b3"
      },
      "source": [
        "#### Distribucion de los temas"
      ]
    },
    {
      "cell_type": "code",
      "execution_count": null,
      "id": "a0ccbb7b",
      "metadata": {
        "scrolled": true,
        "id": "a0ccbb7b"
      },
      "outputs": [],
      "source": [
        "# Nunmero de conversaciones por tema\n",
        "conteo_temas = df_temas_palabras['Tema_Dominante'].value_counts()\n",
        "\n",
        "# Porcentaje de coversaciones por tema\n",
        "contribucion_temas = round(conteo_temas/conteo_temas.sum(), 4)\n",
        "\n",
        "# Numero de Tema y palabras\n",
        "num_tema_palabras = temas_conver_relevante[['Numero_Tema', 'Palabras']]\n",
        "\n",
        "df_tema_dominante = pd.concat([num_tema_palabras, conteo_temas, contribucion_temas], axis=1)\n",
        "df_tema_dominante.columns = ['Tema_Dominante', 'Palabras_tema', 'Num_Conversaciones', 'Porce_Conversaciones']\n",
        "df_tema_dominante"
      ]
    },
    {
      "cell_type": "markdown",
      "id": "b8a6e69c",
      "metadata": {
        "id": "b8a6e69c"
      },
      "source": [
        "#### Nube de palabras"
      ]
    },
    {
      "cell_type": "code",
      "execution_count": null,
      "id": "acd571bc",
      "metadata": {
        "id": "acd571bc",
        "outputId": "33b169a6-a50d-41fc-f4a3-f8be5ded1112"
      },
      "outputs": [
        {
          "data": {
            "image/png": "[encoded data removed]",
            "text/plain": [
              "<Figure size 864x864 with 1 Axes>"
            ]
          },
          "metadata": {
            "needs_background": "light"
          },
          "output_type": "display_data"
        }
      ],
      "source": [
        "def nube_palabras(texto):\n",
        "    def procesar_datos(texto):\n",
        "        corpus=[]\n",
        "        stem=PorterStemmer()\n",
        "        lem=WordNetLemmatizer()\n",
        "        for conver in texto:\n",
        "            palabras=[w for w in word_tokenize(conver) if (w not in stop)]\n",
        "            palabras=[lem.lemmatize(w) for w in palabras if len(w)>2]\n",
        "            corpus.append(palabras)\n",
        "        return corpus\n",
        "    \n",
        "    corpus=procesar_datos(texto)\n",
        "    \n",
        "    nubePalabras = WordCloud(\n",
        "        background_color='white',\n",
        "        stopwords=set(stop),\n",
        "        max_words=50,\n",
        "        max_font_size=30, \n",
        "        scale=3,\n",
        "        random_state=1)\n",
        "    \n",
        "    nubePalabras=nubePalabras.generate(str(corpus))\n",
        "\n",
        "    fig = plt.figure(1, figsize=(12, 12))\n",
        "    plt.axis('off')\n",
        "    plt.imshow(nubePalabras)\n",
        "    plt.show()\n",
        "    \n",
        "nube_palabras(data_new['Conversacion'])"
      ]
    },
    {
      "cell_type": "markdown",
      "id": "6a6ff446",
      "metadata": {
        "id": "6a6ff446"
      },
      "source": [
        "### Proceso para Comentarios\n",
        "\n",
        "#### Lectura de Datos"
      ]
    },
    {
      "cell_type": "code",
      "execution_count": null,
      "id": "65e16542",
      "metadata": {
        "id": "65e16542",
        "outputId": "8225fcb0-34fa-45bb-c1f1-ab50027560c8"
      },
      "outputs": [
        {
          "data": {
            "text/html": [
              "<div>\n",
              "<style scoped>\n",
              "    .dataframe tbody tr th:only-of-type {\n",
              "        vertical-align: middle;\n",
              "    }\n",
              "\n",
              "    .dataframe tbody tr th {\n",
              "        vertical-align: top;\n",
              "    }\n",
              "\n",
              "    .dataframe thead th {\n",
              "        text-align: right;\n",
              "    }\n",
              "</style>\n",
              "<table border=\"1\" class=\"dataframe\">\n",
              "  <thead>\n",
              "    <tr style=\"text-align: right;\">\n",
              "      <th></th>\n",
              "      <th>cedula</th>\n",
              "      <th>nombres</th>\n",
              "      <th>Calificacion</th>\n",
              "      <th>Comentario</th>\n",
              "      <th>fecha</th>\n",
              "      <th>Polaridad</th>\n",
              "    </tr>\n",
              "  </thead>\n",
              "  <tbody>\n",
              "    <tr>\n",
              "      <th>0</th>\n",
              "      <td>1721604237</td>\n",
              "      <td>VINICIO DAVID DOMINGUEZ JARAMILLO</td>\n",
              "      <td>5</td>\n",
              "      <td>Buen Servicio</td>\n",
              "      <td>2022-08-18 11:36:51</td>\n",
              "      <td>Positivo</td>\n",
              "    </tr>\n",
              "    <tr>\n",
              "      <th>1</th>\n",
              "      <td>1900638915</td>\n",
              "      <td>JENNIFFER PAOLA GONZALEZ VALLADARES</td>\n",
              "      <td>4</td>\n",
              "      <td>se pueda abrir con cualquier navegador</td>\n",
              "      <td>2022-08-18 11:20:55</td>\n",
              "      <td>Neutro</td>\n",
              "    </tr>\n",
              "    <tr>\n",
              "      <th>2</th>\n",
              "      <td>907680607</td>\n",
              "      <td>GABRIEL LEONIDAS PINO NEGRON</td>\n",
              "      <td>3</td>\n",
              "      <td>No me gusto hacer el video, es mucho tramite</td>\n",
              "      <td>2022-08-18 10:58:54</td>\n",
              "      <td>Negativo</td>\n",
              "    </tr>\n",
              "    <tr>\n",
              "      <th>3</th>\n",
              "      <td>1712714870</td>\n",
              "      <td>JIMENA DEL ROCIO PAEZ LALVAY</td>\n",
              "      <td>5</td>\n",
              "      <td>Todo muy bien gracias</td>\n",
              "      <td>2022-08-18 10:56:18</td>\n",
              "      <td>Positivo</td>\n",
              "    </tr>\n",
              "    <tr>\n",
              "      <th>4</th>\n",
              "      <td>1002536793</td>\n",
              "      <td>LUIS ANIBAL LOPEZ CHAMORRO</td>\n",
              "      <td>3</td>\n",
              "      <td>La atencion por whatsapp es muy mala</td>\n",
              "      <td>2022-08-18 10:52:49</td>\n",
              "      <td>Negativo</td>\n",
              "    </tr>\n",
              "  </tbody>\n",
              "</table>\n",
              "</div>"
            ],
            "text/plain": [
              "       cedula                              nombres  Calificacion  \\\n",
              "0  1721604237    VINICIO DAVID DOMINGUEZ JARAMILLO             5   \n",
              "1  1900638915  JENNIFFER PAOLA GONZALEZ VALLADARES             4   \n",
              "2   907680607         GABRIEL LEONIDAS PINO NEGRON             3   \n",
              "3  1712714870         JIMENA DEL ROCIO PAEZ LALVAY             5   \n",
              "4  1002536793           LUIS ANIBAL LOPEZ CHAMORRO             3   \n",
              "\n",
              "                                     Comentario               fecha Polaridad  \n",
              "0                                 Buen Servicio 2022-08-18 11:36:51  Positivo  \n",
              "1        se pueda abrir con cualquier navegador 2022-08-18 11:20:55    Neutro  \n",
              "2  No me gusto hacer el video, es mucho tramite 2022-08-18 10:58:54  Negativo  \n",
              "3                         Todo muy bien gracias 2022-08-18 10:56:18  Positivo  \n",
              "4          La atencion por whatsapp es muy mala 2022-08-18 10:52:49  Negativo  "
            ]
          },
          "execution_count": 323,
          "metadata": {},
          "output_type": "execute_result"
        }
      ],
      "source": [
        "data_sd_com = pd.read_excel(\"dataSDCom.xlsx\")\n",
        "data_sd_com.head()"
      ]
    },
    {
      "cell_type": "code",
      "execution_count": null,
      "id": "dba9549d",
      "metadata": {
        "id": "dba9549d"
      },
      "outputs": [],
      "source": [
        "def anali_senti_textblob(text):\n",
        "    try:\n",
        "        x = TextBlob(text).translate(from_lang='es', to='en')\n",
        "        x = x.sentiment.polarity\n",
        "        if x<0:\n",
        "            return 'Negativo'\n",
        "        elif x==0:\n",
        "            return 'Neutro'\n",
        "        else:\n",
        "            return 'Positivo'\n",
        "    except:\n",
        "        return ''\n",
        "\n",
        "def analisis_sentimiento(text):\n",
        "    analisis_senti = text.map(lambda x: anali_senti_textblob(x))\n",
        "    #plt.bar(analisis_senti.value_counts().index,analisis_senti.value_counts())\n",
        "    return analisis_senti"
      ]
    },
    {
      "cell_type": "code",
      "execution_count": null,
      "id": "bfed0ce0",
      "metadata": {
        "id": "bfed0ce0"
      },
      "outputs": [],
      "source": [
        "resultado_analisis = analisis_sentimiento(data_sd_com['Comentario'])"
      ]
    },
    {
      "cell_type": "markdown",
      "id": "3cd139ce",
      "metadata": {
        "id": "3cd139ce"
      },
      "source": [
        "#### Analisis de Sentimiento"
      ]
    },
    {
      "cell_type": "code",
      "execution_count": null,
      "id": "ed6beb44",
      "metadata": {
        "id": "ed6beb44",
        "outputId": "0f11885b-81dd-40ed-8ef7-8ceb2da700ba"
      },
      "outputs": [
        {
          "name": "stderr",
          "output_type": "stream",
          "text": [
            "<ipython-input-282-91a3294d9187>:2: SettingWithCopyWarning: \n",
            "A value is trying to be set on a copy of a slice from a DataFrame.\n",
            "Try using .loc[row_indexer,col_indexer] = value instead\n",
            "\n",
            "See the caveats in the documentation: https://pandas.pydata.org/pandas-docs/stable/user_guide/indexing.html#returning-a-view-versus-a-copy\n",
            "  data_senti['Analisis_Senti'] = resultado_analisis\n"
          ]
        },
        {
          "data": {
            "image/png": "[encoded data removed]",
            "text/plain": [
              "<Figure size 432x288 with 1 Axes>"
            ]
          },
          "metadata": {
            "needs_background": "light"
          },
          "output_type": "display_data"
        }
      ],
      "source": [
        "data_senti = data_sd_com[['Comentario','Polaridad']]\n",
        "data_senti['Analisis_Senti'] = resultado_analisis\n",
        "data_senti = data_senti[data_senti.Analisis_Senti != '']\n",
        "plt.bar(data_senti.Analisis_Senti.value_counts().index,data_senti.Analisis_Senti.value_counts())\n",
        "for x, y in zip(data_senti.Analisis_Senti.value_counts().index, data_senti.Analisis_Senti.value_counts()):\n",
        "    plt.text(x, y, '%i' % y, ha='center', va='bottom')"
      ]
    },
    {
      "cell_type": "markdown",
      "id": "d14bf084",
      "metadata": {
        "id": "d14bf084"
      },
      "source": [
        "#### Evaluacion del modulo de analisis de sentimiento"
      ]
    },
    {
      "cell_type": "code",
      "execution_count": null,
      "id": "5618fa10",
      "metadata": {
        "id": "5618fa10"
      },
      "outputs": [],
      "source": [
        "def plot_confusion_matrix(matriz_conf, classes,\n",
        "                          title='Matriz de Confusion',\n",
        "                          cmap=plt.cm.Blues):\n",
        "    plt.imshow(matriz_conf, interpolation='nearest', cmap=cmap)\n",
        "    plt.title(title)\n",
        "    plt.colorbar()\n",
        "    tick_marks = np.arange(len(classes))\n",
        "    plt.xticks(tick_marks, classes, rotation=45)\n",
        "    plt.yticks(tick_marks, classes)\n",
        "\n",
        "    print(matriz_conf)\n",
        "\n",
        "    thresh = matriz_conf.max() / 2.\n",
        "    for i, j in itertools.product(range(matriz_conf.shape[0]), range(matriz_conf.shape[1])):\n",
        "        plt.text(j, i, matriz_conf[i, j],\n",
        "                 horizontalalignment=\"center\",\n",
        "                 color=\"white\" if matriz_conf[i, j] > thresh else \"black\")\n",
        "\n",
        "    plt.tight_layout()\n",
        "    plt.ylabel('Valor real')\n",
        "    plt.xlabel('Valor predicho')"
      ]
    },
    {
      "cell_type": "code",
      "execution_count": null,
      "id": "5248fbdd",
      "metadata": {
        "id": "5248fbdd",
        "outputId": "38188039-440a-4853-b10d-40f1bac9015e"
      },
      "outputs": [
        {
          "name": "stdout",
          "output_type": "stream",
          "text": [
            "[[ 89   8   9]\n",
            " [ 10  96  20]\n",
            " [  2  19 176]]\n"
          ]
        },
        {
          "data": {
            "image/png": "[encoded data removed]",
            "text/plain": [
              "<Figure size 432x288 with 2 Axes>"
            ]
          },
          "metadata": {
            "needs_background": "light"
          },
          "output_type": "display_data"
        }
      ],
      "source": [
        "plot_confusion_matrix(metrics.confusion_matrix(data_senti['Polaridad'], data_senti['Analisis_Senti']), classes=[\"Negativo\",\"Neutro\",\"Positivo\"])"
      ]
    },
    {
      "cell_type": "code",
      "execution_count": null,
      "id": "2aaaaaf9",
      "metadata": {
        "id": "2aaaaaf9",
        "outputId": "91bae2e4-bdba-4df5-a7ac-809c95491e20"
      },
      "outputs": [
        {
          "name": "stdout",
          "output_type": "stream",
          "text": [
            "              precision    recall  f1-score   support\n",
            "\n",
            "    Negativo       0.88      0.84      0.86       106\n",
            "      Neutro       0.78      0.76      0.77       126\n",
            "    Positivo       0.86      0.89      0.88       197\n",
            "\n",
            "    accuracy                           0.84       429\n",
            "   macro avg       0.84      0.83      0.84       429\n",
            "weighted avg       0.84      0.84      0.84       429\n",
            "\n"
          ]
        }
      ],
      "source": [
        "print(metrics.classification_report(data_senti['Polaridad'], data_senti['Analisis_Senti']))"
      ]
    },
    {
      "cell_type": "markdown",
      "id": "0c4292de",
      "metadata": {
        "id": "0c4292de"
      },
      "source": [
        "#### Lectura de Comentarios Negativos"
      ]
    },
    {
      "cell_type": "code",
      "execution_count": null,
      "id": "d502b1d0",
      "metadata": {
        "id": "d502b1d0",
        "outputId": "0270374b-d9f0-419a-afdb-c26d7fa7b027"
      },
      "outputs": [
        {
          "data": {
            "text/html": [
              "<div>\n",
              "<style scoped>\n",
              "    .dataframe tbody tr th:only-of-type {\n",
              "        vertical-align: middle;\n",
              "    }\n",
              "\n",
              "    .dataframe tbody tr th {\n",
              "        vertical-align: top;\n",
              "    }\n",
              "\n",
              "    .dataframe thead th {\n",
              "        text-align: right;\n",
              "    }\n",
              "</style>\n",
              "<table border=\"1\" class=\"dataframe\">\n",
              "  <thead>\n",
              "    <tr style=\"text-align: right;\">\n",
              "      <th></th>\n",
              "      <th>Comentario</th>\n",
              "      <th>Polaridad</th>\n",
              "      <th>Analisis_Senti</th>\n",
              "    </tr>\n",
              "  </thead>\n",
              "  <tbody>\n",
              "    <tr>\n",
              "      <th>4</th>\n",
              "      <td>La atencion por whatsapp es muy mala</td>\n",
              "      <td>Negativo</td>\n",
              "      <td>Negativo</td>\n",
              "    </tr>\n",
              "    <tr>\n",
              "      <th>8</th>\n",
              "      <td>menos tramitologia, se demoran mucho los proce...</td>\n",
              "      <td>Negativo</td>\n",
              "      <td>Negativo</td>\n",
              "    </tr>\n",
              "    <tr>\n",
              "      <th>9</th>\n",
              "      <td>Deben recomendar a los usuarios usar el navega...</td>\n",
              "      <td>Negativo</td>\n",
              "      <td>Negativo</td>\n",
              "    </tr>\n",
              "    <tr>\n",
              "      <th>14</th>\n",
              "      <td>no son nada atentos los operadores, su trato f...</td>\n",
              "      <td>Negativo</td>\n",
              "      <td>Negativo</td>\n",
              "    </tr>\n",
              "    <tr>\n",
              "      <th>16</th>\n",
              "      <td>UN POCO EL ALTO EL VALOR PARA CINCO ANIOS</td>\n",
              "      <td>Negativo</td>\n",
              "      <td>Negativo</td>\n",
              "    </tr>\n",
              "  </tbody>\n",
              "</table>\n",
              "</div>"
            ],
            "text/plain": [
              "                                           Comentario Polaridad Analisis_Senti\n",
              "4                La atencion por whatsapp es muy mala  Negativo       Negativo\n",
              "8   menos tramitologia, se demoran mucho los proce...  Negativo       Negativo\n",
              "9   Deben recomendar a los usuarios usar el navega...  Negativo       Negativo\n",
              "14  no son nada atentos los operadores, su trato f...  Negativo       Negativo\n",
              "16          UN POCO EL ALTO EL VALOR PARA CINCO ANIOS  Negativo       Negativo"
            ]
          },
          "execution_count": 287,
          "metadata": {},
          "output_type": "execute_result"
        }
      ],
      "source": [
        "data_nega = data_senti[(data_senti.Analisis_Senti == 'Negativo')]\n",
        "data_nega.head()"
      ]
    },
    {
      "cell_type": "markdown",
      "id": "07cba5f9",
      "metadata": {
        "id": "07cba5f9"
      },
      "source": [
        "#### Analisis Estadistico"
      ]
    },
    {
      "cell_type": "code",
      "execution_count": null,
      "id": "7ff4c176",
      "metadata": {
        "id": "7ff4c176",
        "outputId": "f2a2898f-781f-4947-d7e9-328b5b9e14be"
      },
      "outputs": [
        {
          "data": {
            "text/plain": [
              "<AxesSubplot:>"
            ]
          },
          "execution_count": 288,
          "metadata": {},
          "output_type": "execute_result"
        },
        {
          "data": {
            "image/png": "[encoded data removed]",
            "text/plain": [
              "<Figure size 432x288 with 1 Axes>"
            ]
          },
          "metadata": {
            "needs_background": "light"
          },
          "output_type": "display_data"
        }
      ],
      "source": [
        "#Histograma de cantidad de caracteres presentes en cada conversacion\n",
        "data_nega['Comentario'].str.len().hist()"
      ]
    },
    {
      "cell_type": "code",
      "execution_count": null,
      "id": "abd0d5c4",
      "metadata": {
        "id": "abd0d5c4",
        "outputId": "2c69e08b-be95-4482-ce6a-2006b59f4d01"
      },
      "outputs": [
        {
          "data": {
            "image/png": "[encoded data removed]",
            "text/plain": [
              "<Figure size 432x288 with 1 Axes>"
            ]
          },
          "metadata": {
            "needs_background": "light"
          },
          "output_type": "display_data"
        }
      ],
      "source": [
        "#Histograma del número de palabras por cada coversacion  \n",
        "numero_palabras_histogram(data_nega['Comentario'])"
      ]
    },
    {
      "cell_type": "code",
      "execution_count": null,
      "id": "085502c0",
      "metadata": {
        "id": "085502c0",
        "outputId": "56b3d14e-bdf8-413b-e134-7102bb65e1c2"
      },
      "outputs": [
        {
          "data": {
            "text/html": [
              "<div>\n",
              "<style scoped>\n",
              "    .dataframe tbody tr th:only-of-type {\n",
              "        vertical-align: middle;\n",
              "    }\n",
              "\n",
              "    .dataframe tbody tr th {\n",
              "        vertical-align: top;\n",
              "    }\n",
              "\n",
              "    .dataframe thead th {\n",
              "        text-align: right;\n",
              "    }\n",
              "</style>\n",
              "<table border=\"1\" class=\"dataframe\">\n",
              "  <thead>\n",
              "    <tr style=\"text-align: right;\">\n",
              "      <th></th>\n",
              "      <th>Comentario</th>\n",
              "      <th>Polaridad</th>\n",
              "      <th>Analisis_Senti</th>\n",
              "    </tr>\n",
              "  </thead>\n",
              "  <tbody>\n",
              "    <tr>\n",
              "      <th>0</th>\n",
              "      <td>La atencion por whatsapp es muy mala</td>\n",
              "      <td>Negativo</td>\n",
              "      <td>Negativo</td>\n",
              "    </tr>\n",
              "    <tr>\n",
              "      <th>1</th>\n",
              "      <td>menos tramitologia, se demoran mucho los proce...</td>\n",
              "      <td>Negativo</td>\n",
              "      <td>Negativo</td>\n",
              "    </tr>\n",
              "    <tr>\n",
              "      <th>2</th>\n",
              "      <td>Deben recomendar a los usuarios usar el navega...</td>\n",
              "      <td>Negativo</td>\n",
              "      <td>Negativo</td>\n",
              "    </tr>\n",
              "    <tr>\n",
              "      <th>3</th>\n",
              "      <td>no son nada atentos los operadores, su trato f...</td>\n",
              "      <td>Negativo</td>\n",
              "      <td>Negativo</td>\n",
              "    </tr>\n",
              "    <tr>\n",
              "      <th>4</th>\n",
              "      <td>UN POCO EL ALTO EL VALOR PARA CINCO ANIOS</td>\n",
              "      <td>Negativo</td>\n",
              "      <td>Negativo</td>\n",
              "    </tr>\n",
              "  </tbody>\n",
              "</table>\n",
              "</div>"
            ],
            "text/plain": [
              "                                          Comentario Polaridad Analisis_Senti\n",
              "0               La atencion por whatsapp es muy mala  Negativo       Negativo\n",
              "1  menos tramitologia, se demoran mucho los proce...  Negativo       Negativo\n",
              "2  Deben recomendar a los usuarios usar el navega...  Negativo       Negativo\n",
              "3  no son nada atentos los operadores, su trato f...  Negativo       Negativo\n",
              "4          UN POCO EL ALTO EL VALOR PARA CINCO ANIOS  Negativo       Negativo"
            ]
          },
          "execution_count": 290,
          "metadata": {},
          "output_type": "execute_result"
        }
      ],
      "source": [
        "#Seleccion de comentarios con mas de 2 palabras\n",
        "data_nega = data_nega[data_nega['Comentario'].str.split().map(lambda x: len(x)) > 3]\n",
        "#Seleccion de comentarios con menos de 80 palabras\n",
        "data_nega = data_nega[data_nega['Comentario'].str.split().map(lambda x: len(x)) <60]\n",
        "data_nega = data_nega.reset_index(drop=True)\n",
        "data_nega.to_excel('negativo.xlsx')\n",
        "data_nega.head()"
      ]
    },
    {
      "cell_type": "code",
      "execution_count": null,
      "id": "0990118f",
      "metadata": {
        "id": "0990118f",
        "outputId": "a77d35ac-ed59-43c8-ff44-052848442ce0"
      },
      "outputs": [
        {
          "data": {
            "image/png": "[encoded data removed]",
            "text/plain": [
              "<Figure size 432x288 with 1 Axes>"
            ]
          },
          "metadata": {
            "needs_background": "light"
          },
          "output_type": "display_data"
        }
      ],
      "source": [
        "top_stopwords(data_nega['Comentario'])"
      ]
    },
    {
      "cell_type": "code",
      "execution_count": null,
      "id": "abba6b33",
      "metadata": {
        "id": "abba6b33",
        "outputId": "11c4223c-fef2-4c35-934a-899320c819fd"
      },
      "outputs": [
        {
          "data": {
            "image/png": "[encoded data removed]",
            "text/plain": [
              "<Figure size 432x288 with 1 Axes>"
            ]
          },
          "metadata": {
            "needs_background": "light"
          },
          "output_type": "display_data"
        }
      ],
      "source": [
        "top_no_stopwords(data_nega['Comentario'])"
      ]
    },
    {
      "cell_type": "code",
      "execution_count": null,
      "id": "10dc1185",
      "metadata": {
        "id": "10dc1185",
        "outputId": "dc6efc72-52c7-49c9-dba4-eccdda0c10fd"
      },
      "outputs": [
        {
          "data": {
            "image/png": "[encoded data removed]",
            "text/plain": [
              "<Figure size 432x288 with 1 Axes>"
            ]
          },
          "metadata": {
            "needs_background": "light"
          },
          "output_type": "display_data"
        }
      ],
      "source": [
        "top_n_gramas(data_nega['Comentario'],2)"
      ]
    },
    {
      "cell_type": "code",
      "execution_count": null,
      "id": "d241ba6e",
      "metadata": {
        "id": "d241ba6e",
        "outputId": "d04b321f-41f3-4d34-d3a2-48e127172b9b"
      },
      "outputs": [
        {
          "data": {
            "image/png": "[encoded data removed]",
            "text/plain": [
              "<Figure size 432x288 with 1 Axes>"
            ]
          },
          "metadata": {
            "needs_background": "light"
          },
          "output_type": "display_data"
        }
      ],
      "source": [
        "top_n_gramas(data_nega['Comentario'],3)"
      ]
    },
    {
      "cell_type": "code",
      "execution_count": null,
      "id": "e56507ba",
      "metadata": {
        "id": "e56507ba"
      },
      "outputs": [],
      "source": [
        "#Tokenizar cada oración en una lista de palabras, eliminar los signos de puntuación, los caracteres innecesarios y lemantizar\n",
        "data = data_nega.Comentario.values.tolist()\n",
        "data_lemantizada = tratamiento_data(data)"
      ]
    },
    {
      "cell_type": "code",
      "execution_count": null,
      "id": "02b493cc",
      "metadata": {
        "id": "02b493cc"
      },
      "outputs": [],
      "source": [
        "# Creacion de  Diccionario\n",
        "id2word = gensim.corpora.Dictionary(data_lemantizada)\n",
        "\n",
        "# Creacion de Corpus\n",
        "corpus = [id2word.doc2bow(text) for text in data_lemantizada]"
      ]
    },
    {
      "cell_type": "markdown",
      "id": "7836e4f9",
      "metadata": {
        "id": "7836e4f9"
      },
      "source": [
        "#### Creacion de Modelo Mallet"
      ]
    },
    {
      "cell_type": "code",
      "execution_count": null,
      "id": "30d76bf6",
      "metadata": {
        "id": "30d76bf6"
      },
      "outputs": [],
      "source": [
        "import os\n",
        "os.environ.update({'MALLET_HOME':r'C:/new_mallet/mallet-2.0.8/'})\n",
        "mallet_path = 'C:/new_mallet/mallet-2.0.8/bin/mallet' # actualizar esta ruta"
      ]
    },
    {
      "cell_type": "code",
      "execution_count": null,
      "id": "d84aa48b",
      "metadata": {
        "id": "d84aa48b"
      },
      "outputs": [],
      "source": [
        "#Calcular varios modelos y su coherencia para determinar el optimo\n",
        "inicio=2\n",
        "fin=10\n",
        "pasos=2\n",
        "modelos, coherencia_val = valores_coherencia(diccionario=id2word, corpus=corpus, texts=data_lemantizada, inicio=inicio, fin=fin, paso=pasos, tip_model = 'MALLET')"
      ]
    },
    {
      "cell_type": "markdown",
      "id": "2ca54069",
      "metadata": {
        "id": "2ca54069"
      },
      "source": [
        "#### Seleccion del numero de temas"
      ]
    },
    {
      "cell_type": "code",
      "execution_count": null,
      "id": "5475431f",
      "metadata": {
        "scrolled": true,
        "id": "5475431f",
        "outputId": "51bc220e-a1c0-4f9a-ce90-05171f40d3eb"
      },
      "outputs": [
        {
          "data": {
            "image/png": "[encoded data removed]",
            "text/plain": [
              "<Figure size 432x288 with 1 Axes>"
            ]
          },
          "metadata": {
            "needs_background": "light"
          },
          "output_type": "display_data"
        }
      ],
      "source": [
        "#Graficar numeor de temas con su coherencia\n",
        "x = range(inicio, fin, pasos)\n",
        "plt.plot(x, coherencia_val)\n",
        "plt.xlabel(\"Num Temas\")\n",
        "plt.ylabel(\"Valor Coherencia\")\n",
        "plt.legend((\"coherencia\"), loc='best')\n",
        "plt.show()"
      ]
    },
    {
      "cell_type": "code",
      "execution_count": null,
      "id": "b6d9dfd5",
      "metadata": {
        "id": "b6d9dfd5",
        "outputId": "ea3c79bf-512a-4f47-d735-f2494477a40b"
      },
      "outputs": [
        {
          "name": "stdout",
          "output_type": "stream",
          "text": [
            "Numero de Temas = 2  tiene un valor de coherencia de:  0.6387\n",
            "Numero de Temas = 4  tiene un valor de coherencia de:  0.6995\n",
            "Numero de Temas = 6  tiene un valor de coherencia de:  0.7439\n",
            "Numero de Temas = 8  tiene un valor de coherencia de:  0.7515\n"
          ]
        }
      ],
      "source": [
        "#Valores de COherencia por cada numero de tema\n",
        "for m, cv in zip(x, coherencia_val):\n",
        "    print(\"Numero de Temas =\", m, \" tiene un valor de coherencia de: \", round(cv, 4))"
      ]
    },
    {
      "cell_type": "code",
      "execution_count": null,
      "id": "8935c113",
      "metadata": {
        "id": "8935c113",
        "outputId": "cc9a25d2-8bdb-40a2-a264-545fa0d5ac4e"
      },
      "outputs": [
        {
          "data": {
            "text/plain": [
              "[(0,\n",
              "  [('malo', 0.34615384615384615),\n",
              "   ('servicio', 0.11538461538461539),\n",
              "   ('tramite', 0.05128205128205128),\n",
              "   ('pesimo', 0.038461538461538464),\n",
              "   ('proceso', 0.038461538461538464),\n",
              "   ('personalizar', 0.01282051282051282),\n",
              "   ('eliminar', 0.01282051282051282),\n",
              "   ('respuesta', 0.01282051282051282),\n",
              "   ('corregir', 0.01282051282051282),\n",
              "   ('relevo', 0.01282051282051282)]),\n",
              " (1,\n",
              "  [('menos', 0.06097560975609756),\n",
              "   ('video', 0.06097560975609756),\n",
              "   ('realizar', 0.04878048780487805),\n",
              "   ('rapidez', 0.04878048780487805),\n",
              "   ('rapido', 0.04878048780487805),\n",
              "   ('tiempo', 0.036585365853658534),\n",
              "   ('paso', 0.036585365853658534),\n",
              "   ('quitar', 0.036585365853658534),\n",
              "   ('persona', 0.036585365853658534),\n",
              "   ('revisar', 0.024390243902439025)]),\n",
              " (2,\n",
              "  [('mas', 0.14864864864864866),\n",
              "   ('responder', 0.0945945945945946),\n",
              "   ('perder', 0.06756756756756757),\n",
              "   ('respuesta', 0.04054054054054054),\n",
              "   ('perdido', 0.04054054054054054),\n",
              "   ('problema', 0.02702702702702703),\n",
              "   ('mal', 0.02702702702702703),\n",
              "   ('atender', 0.02702702702702703),\n",
              "   ('escuchar', 0.02702702702702703),\n",
              "   ('escribi', 0.013513513513513514)]),\n",
              " (3,\n",
              "  [('pago', 0.12987012987012986),\n",
              "   ('precio', 0.09090909090909091),\n",
              "   ('hacer', 0.07792207792207792),\n",
              "   ('cliente', 0.06493506493506493),\n",
              "   ('alto', 0.06493506493506493),\n",
              "   ('bajar', 0.05194805194805195),\n",
              "   ('caro', 0.03896103896103896),\n",
              "   ('demorar', 0.03896103896103896),\n",
              "   ('correo', 0.025974025974025976),\n",
              "   ('paguinar', 0.012987012987012988)]),\n",
              " (4,\n",
              "  [('tiempo', 0.22988505747126436),\n",
              "   ('demorar', 0.11494252873563218),\n",
              "   ('contestar', 0.08045977011494253),\n",
              "   ('descargo', 0.034482758620689655),\n",
              "   ('duda', 0.022988505747126436),\n",
              "   ('perder', 0.022988505747126436),\n",
              "   ('necesitar', 0.022988505747126436),\n",
              "   ('confuso', 0.022988505747126436),\n",
              "   ('mal', 0.022988505747126436),\n",
              "   ('funcionar', 0.011494252873563218)]),\n",
              " (5,\n",
              "  [('firma', 0.22077922077922077),\n",
              "   ('mejorar', 0.1038961038961039),\n",
              "   ('lento', 0.07792207792207792),\n",
              "   ('atendar', 0.05194805194805195),\n",
              "   ('tratar', 0.05194805194805195),\n",
              "   ('descargar', 0.03896103896103896),\n",
              "   ('acceder', 0.03896103896103896),\n",
              "   ('tocar', 0.025974025974025976),\n",
              "   ('realizado', 0.012987012987012988),\n",
              "   ('utilizar', 0.012987012987012988)])]"
            ]
          },
          "execution_count": 301,
          "metadata": {},
          "output_type": "execute_result"
        }
      ],
      "source": [
        "# Selecciona el modelo mas optimo basado en la coherencia\n",
        "modelo_numero = 2;\n",
        "modelo_optimo = modelos[modelo_numero]\n",
        "modelo_optimo.show_topics(formatted=False)"
      ]
    },
    {
      "cell_type": "code",
      "execution_count": null,
      "id": "408f4b4e",
      "metadata": {
        "id": "408f4b4e",
        "outputId": "b193bce6-3e32-471e-b32e-41baf7f4c09b"
      },
      "outputs": [
        {
          "data": {
            "text/html": [
              "<div>\n",
              "<style scoped>\n",
              "    .dataframe tbody tr th:only-of-type {\n",
              "        vertical-align: middle;\n",
              "    }\n",
              "\n",
              "    .dataframe tbody tr th {\n",
              "        vertical-align: top;\n",
              "    }\n",
              "\n",
              "    .dataframe thead th {\n",
              "        text-align: right;\n",
              "    }\n",
              "</style>\n",
              "<table border=\"1\" class=\"dataframe\">\n",
              "  <thead>\n",
              "    <tr style=\"text-align: right;\">\n",
              "      <th></th>\n",
              "      <th>Document_No</th>\n",
              "      <th>Tema_Dominante</th>\n",
              "      <th>Porce_Contribucion</th>\n",
              "      <th>Palabras</th>\n",
              "      <th>Texto</th>\n",
              "    </tr>\n",
              "  </thead>\n",
              "  <tbody>\n",
              "    <tr>\n",
              "      <th>0</th>\n",
              "      <td>0</td>\n",
              "      <td>0.0</td>\n",
              "      <td>0.1667</td>\n",
              "      <td>malo, servicio, tramite, pesimo, proceso, pers...</td>\n",
              "      <td>La atencion por whatsapp es muy mala</td>\n",
              "    </tr>\n",
              "    <tr>\n",
              "      <th>1</th>\n",
              "      <td>1</td>\n",
              "      <td>1.0</td>\n",
              "      <td>0.1749</td>\n",
              "      <td>menos, video, realizar, rapidez, rapido, tiemp...</td>\n",
              "      <td>menos tramitologia, se demoran mucho los proce...</td>\n",
              "    </tr>\n",
              "    <tr>\n",
              "      <th>2</th>\n",
              "      <td>2</td>\n",
              "      <td>1.0</td>\n",
              "      <td>0.2259</td>\n",
              "      <td>menos, video, realizar, rapidez, rapido, tiemp...</td>\n",
              "      <td>Deben recomendar a los usuarios usar el navega...</td>\n",
              "    </tr>\n",
              "    <tr>\n",
              "      <th>3</th>\n",
              "      <td>3</td>\n",
              "      <td>5.0</td>\n",
              "      <td>0.1934</td>\n",
              "      <td>firma, mejorar, lento, atendar, tratar, descar...</td>\n",
              "      <td>no son nada atentos los operadores, su trato f...</td>\n",
              "    </tr>\n",
              "    <tr>\n",
              "      <th>4</th>\n",
              "      <td>4</td>\n",
              "      <td>3.0</td>\n",
              "      <td>0.1887</td>\n",
              "      <td>pago, precio, hacer, cliente, alto, bajar, car...</td>\n",
              "      <td>UN POCO EL ALTO EL VALOR PARA CINCO ANIOS</td>\n",
              "    </tr>\n",
              "  </tbody>\n",
              "</table>\n",
              "</div>"
            ],
            "text/plain": [
              "   Document_No  Tema_Dominante  Porce_Contribucion  \\\n",
              "0            0             0.0              0.1667   \n",
              "1            1             1.0              0.1749   \n",
              "2            2             1.0              0.2259   \n",
              "3            3             5.0              0.1934   \n",
              "4            4             3.0              0.1887   \n",
              "\n",
              "                                            Palabras  \\\n",
              "0  malo, servicio, tramite, pesimo, proceso, pers...   \n",
              "1  menos, video, realizar, rapidez, rapido, tiemp...   \n",
              "2  menos, video, realizar, rapidez, rapido, tiemp...   \n",
              "3  firma, mejorar, lento, atendar, tratar, descar...   \n",
              "4  pago, precio, hacer, cliente, alto, bajar, car...   \n",
              "\n",
              "                                               Texto  \n",
              "0               La atencion por whatsapp es muy mala  \n",
              "1  menos tramitologia, se demoran mucho los proce...  \n",
              "2  Deben recomendar a los usuarios usar el navega...  \n",
              "3  no son nada atentos los operadores, su trato f...  \n",
              "4          UN POCO EL ALTO EL VALOR PARA CINCO ANIOS  "
            ]
          },
          "execution_count": 302,
          "metadata": {},
          "output_type": "execute_result"
        }
      ],
      "source": [
        "df_temas_palabras = temas_conversacion(ldamodel=modelo_optimo, corpus=corpus, texts=data, tip_model = 'MALLET')\n",
        "\n",
        "# Formatear el Dataframe\n",
        "df_tema_dominante = df_temas_palabras.reset_index()\n",
        "df_tema_dominante.columns = ['Document_No', 'Tema_Dominante', 'Porce_Contribucion', 'Palabras', 'Texto']\n",
        "\n",
        "df_tema_dominante.head()"
      ]
    },
    {
      "cell_type": "code",
      "execution_count": null,
      "id": "798cb46a",
      "metadata": {
        "id": "798cb46a",
        "outputId": "ad370da7-7615-483f-e341-eaa5f21ec97e"
      },
      "outputs": [
        {
          "data": {
            "text/html": [
              "<div>\n",
              "<style scoped>\n",
              "    .dataframe tbody tr th:only-of-type {\n",
              "        vertical-align: middle;\n",
              "    }\n",
              "\n",
              "    .dataframe tbody tr th {\n",
              "        vertical-align: top;\n",
              "    }\n",
              "\n",
              "    .dataframe thead th {\n",
              "        text-align: right;\n",
              "    }\n",
              "</style>\n",
              "<table border=\"1\" class=\"dataframe\">\n",
              "  <thead>\n",
              "    <tr style=\"text-align: right;\">\n",
              "      <th></th>\n",
              "      <th>Numero_Tema</th>\n",
              "      <th>Porce_Contribucion</th>\n",
              "      <th>Palabras</th>\n",
              "      <th>Texto</th>\n",
              "    </tr>\n",
              "  </thead>\n",
              "  <tbody>\n",
              "    <tr>\n",
              "      <th>0</th>\n",
              "      <td>0.0</td>\n",
              "      <td>0.2184</td>\n",
              "      <td>malo, servicio, tramite, pesimo, proceso, pers...</td>\n",
              "      <td>Muy malo el chatbot de Whatsapp, necesitan mej...</td>\n",
              "    </tr>\n",
              "    <tr>\n",
              "      <th>1</th>\n",
              "      <td>1.0</td>\n",
              "      <td>0.2361</td>\n",
              "      <td>menos, video, realizar, rapidez, rapido, tiemp...</td>\n",
              "      <td>En su call center no contestan se realizaron m...</td>\n",
              "    </tr>\n",
              "    <tr>\n",
              "      <th>2</th>\n",
              "      <td>2.0</td>\n",
              "      <td>0.2171</td>\n",
              "      <td>mas, responder, perder, respuesta, perdido, pr...</td>\n",
              "      <td>Mas amabilidad al atender el asesor que me ate...</td>\n",
              "    </tr>\n",
              "    <tr>\n",
              "      <th>3</th>\n",
              "      <td>3.0</td>\n",
              "      <td>0.2384</td>\n",
              "      <td>pago, precio, hacer, cliente, alto, bajar, car...</td>\n",
              "      <td>BAJAR COSTOS, LOS PRECIOS SON MUY ALTOS y CAROS</td>\n",
              "    </tr>\n",
              "    <tr>\n",
              "      <th>4</th>\n",
              "      <td>4.0</td>\n",
              "      <td>0.2280</td>\n",
              "      <td>tiempo, demorar, contestar, descargo, duda, pe...</td>\n",
              "      <td>no cumplen con el tiempo que indican en revisa...</td>\n",
              "    </tr>\n",
              "    <tr>\n",
              "      <th>5</th>\n",
              "      <td>5.0</td>\n",
              "      <td>0.2149</td>\n",
              "      <td>firma, mejorar, lento, atendar, tratar, descar...</td>\n",
              "      <td>Deben informar que para descargar el archivo d...</td>\n",
              "    </tr>\n",
              "  </tbody>\n",
              "</table>\n",
              "</div>"
            ],
            "text/plain": [
              "   Numero_Tema  Porce_Contribucion  \\\n",
              "0          0.0              0.2184   \n",
              "1          1.0              0.2361   \n",
              "2          2.0              0.2171   \n",
              "3          3.0              0.2384   \n",
              "4          4.0              0.2280   \n",
              "5          5.0              0.2149   \n",
              "\n",
              "                                            Palabras  \\\n",
              "0  malo, servicio, tramite, pesimo, proceso, pers...   \n",
              "1  menos, video, realizar, rapidez, rapido, tiemp...   \n",
              "2  mas, responder, perder, respuesta, perdido, pr...   \n",
              "3  pago, precio, hacer, cliente, alto, bajar, car...   \n",
              "4  tiempo, demorar, contestar, descargo, duda, pe...   \n",
              "5  firma, mejorar, lento, atendar, tratar, descar...   \n",
              "\n",
              "                                               Texto  \n",
              "0  Muy malo el chatbot de Whatsapp, necesitan mej...  \n",
              "1  En su call center no contestan se realizaron m...  \n",
              "2  Mas amabilidad al atender el asesor que me ate...  \n",
              "3    BAJAR COSTOS, LOS PRECIOS SON MUY ALTOS y CAROS  \n",
              "4  no cumplen con el tiempo que indican en revisa...  \n",
              "5  Deben informar que para descargar el archivo d...  "
            ]
          },
          "execution_count": 306,
          "metadata": {},
          "output_type": "execute_result"
        }
      ],
      "source": [
        "#Conversacion principal por cada tema\n",
        "temas_conver_relevante = pd.DataFrame()\n",
        "temas_agrupados_conv = df_temas_palabras.groupby('Tema_Dominante')\n",
        "\n",
        "for i, grp in temas_agrupados_conv:\n",
        "    temas_conver_relevante = pd.concat([temas_conver_relevante, grp.sort_values(['Porce_Contribucion'], ascending=[0]).head(1)], axis=0)\n",
        "   \n",
        "temas_conver_relevante.reset_index(drop=True, inplace=True)\n",
        "temas_conver_relevante.columns = ['Numero_Tema', \"Porce_Contribucion\", \"Palabras\", \"Texto\"]\n",
        "temas_conver_relevante"
      ]
    },
    {
      "cell_type": "code",
      "execution_count": null,
      "id": "9b23b6c5",
      "metadata": {
        "id": "9b23b6c5",
        "outputId": "2489ee5d-e02e-4c52-96e4-13dbc26ac460"
      },
      "outputs": [
        {
          "data": {
            "text/html": [
              "<div>\n",
              "<style scoped>\n",
              "    .dataframe tbody tr th:only-of-type {\n",
              "        vertical-align: middle;\n",
              "    }\n",
              "\n",
              "    .dataframe tbody tr th {\n",
              "        vertical-align: top;\n",
              "    }\n",
              "\n",
              "    .dataframe thead th {\n",
              "        text-align: right;\n",
              "    }\n",
              "</style>\n",
              "<table border=\"1\" class=\"dataframe\">\n",
              "  <thead>\n",
              "    <tr style=\"text-align: right;\">\n",
              "      <th></th>\n",
              "      <th>Tema_Dominante</th>\n",
              "      <th>Palabras_tema</th>\n",
              "      <th>Num_Conversaciones</th>\n",
              "      <th>Porce_Conversaciones</th>\n",
              "    </tr>\n",
              "  </thead>\n",
              "  <tbody>\n",
              "    <tr>\n",
              "      <th>0.0</th>\n",
              "      <td>0.0</td>\n",
              "      <td>malo, servicio, tramite, pesimo, proceso, pers...</td>\n",
              "      <td>22</td>\n",
              "      <td>0.2222</td>\n",
              "    </tr>\n",
              "    <tr>\n",
              "      <th>1.0</th>\n",
              "      <td>1.0</td>\n",
              "      <td>menos, video, realizar, rapidez, rapido, tiemp...</td>\n",
              "      <td>18</td>\n",
              "      <td>0.1818</td>\n",
              "    </tr>\n",
              "    <tr>\n",
              "      <th>2.0</th>\n",
              "      <td>2.0</td>\n",
              "      <td>mas, responder, perder, respuesta, perdido, pr...</td>\n",
              "      <td>13</td>\n",
              "      <td>0.1313</td>\n",
              "    </tr>\n",
              "    <tr>\n",
              "      <th>3.0</th>\n",
              "      <td>3.0</td>\n",
              "      <td>pago, precio, hacer, cliente, alto, bajar, car...</td>\n",
              "      <td>15</td>\n",
              "      <td>0.1515</td>\n",
              "    </tr>\n",
              "    <tr>\n",
              "      <th>4.0</th>\n",
              "      <td>4.0</td>\n",
              "      <td>tiempo, demorar, contestar, descargo, duda, pe...</td>\n",
              "      <td>19</td>\n",
              "      <td>0.1919</td>\n",
              "    </tr>\n",
              "    <tr>\n",
              "      <th>5.0</th>\n",
              "      <td>5.0</td>\n",
              "      <td>firma, mejorar, lento, atendar, tratar, descar...</td>\n",
              "      <td>12</td>\n",
              "      <td>0.1212</td>\n",
              "    </tr>\n",
              "  </tbody>\n",
              "</table>\n",
              "</div>"
            ],
            "text/plain": [
              "     Tema_Dominante                                      Palabras_tema  \\\n",
              "0.0             0.0  malo, servicio, tramite, pesimo, proceso, pers...   \n",
              "1.0             1.0  menos, video, realizar, rapidez, rapido, tiemp...   \n",
              "2.0             2.0  mas, responder, perder, respuesta, perdido, pr...   \n",
              "3.0             3.0  pago, precio, hacer, cliente, alto, bajar, car...   \n",
              "4.0             4.0  tiempo, demorar, contestar, descargo, duda, pe...   \n",
              "5.0             5.0  firma, mejorar, lento, atendar, tratar, descar...   \n",
              "\n",
              "     Num_Conversaciones  Porce_Conversaciones  \n",
              "0.0                  22                0.2222  \n",
              "1.0                  18                0.1818  \n",
              "2.0                  13                0.1313  \n",
              "3.0                  15                0.1515  \n",
              "4.0                  19                0.1919  \n",
              "5.0                  12                0.1212  "
            ]
          },
          "execution_count": 307,
          "metadata": {},
          "output_type": "execute_result"
        }
      ],
      "source": [
        "# Nunmero de conversaciones por tema\n",
        "conteo_temas = df_temas_palabras['Tema_Dominante'].value_counts()\n",
        "\n",
        "# Porcentaje de coversaciones por tema\n",
        "contribucion_temas = round(conteo_temas/conteo_temas.sum(), 4)\n",
        "\n",
        "# Numero de Tema y palabras\n",
        "num_tema_palabras = temas_conver_relevante[['Numero_Tema', 'Palabras']]\n",
        "\n",
        "df_tema_dominante = pd.concat([num_tema_palabras, conteo_temas, contribucion_temas], axis=1)\n",
        "df_tema_dominante.columns = ['Tema_Dominante', 'Palabras_tema', 'Num_Conversaciones', 'Porce_Conversaciones']\n",
        "df_tema_dominante"
      ]
    },
    {
      "cell_type": "markdown",
      "id": "a42196d3",
      "metadata": {
        "id": "a42196d3"
      },
      "source": [
        "### Modulo de clasificacion de mensajes"
      ]
    },
    {
      "cell_type": "code",
      "execution_count": null,
      "id": "c0ff70cb",
      "metadata": {
        "id": "c0ff70cb",
        "outputId": "fa27cdc2-e060-4208-acf1-0f161b0c618e"
      },
      "outputs": [
        {
          "data": {
            "text/html": [
              "<div>\n",
              "<style scoped>\n",
              "    .dataframe tbody tr th:only-of-type {\n",
              "        vertical-align: middle;\n",
              "    }\n",
              "\n",
              "    .dataframe tbody tr th {\n",
              "        vertical-align: top;\n",
              "    }\n",
              "\n",
              "    .dataframe thead th {\n",
              "        text-align: right;\n",
              "    }\n",
              "</style>\n",
              "<table border=\"1\" class=\"dataframe\">\n",
              "  <thead>\n",
              "    <tr style=\"text-align: right;\">\n",
              "      <th></th>\n",
              "      <th>Fecha</th>\n",
              "      <th>Id</th>\n",
              "      <th>Conversacion</th>\n",
              "      <th>Area</th>\n",
              "    </tr>\n",
              "  </thead>\n",
              "  <tbody>\n",
              "    <tr>\n",
              "      <th>0</th>\n",
              "      <td>18-10-2022 / 21:30:43</td>\n",
              "      <td>12392451273</td>\n",
              "      <td>Buenos días no me han dado hasta ahora mi firm...</td>\n",
              "      <td>Operaciones</td>\n",
              "    </tr>\n",
              "    <tr>\n",
              "      <th>1</th>\n",
              "      <td>10-10-2022 / 18:19:32</td>\n",
              "      <td>13059890172</td>\n",
              "      <td>Yo ya tengo mi firma electrónica con ustedes p...</td>\n",
              "      <td>Sistema Facturacion</td>\n",
              "    </tr>\n",
              "    <tr>\n",
              "      <th>2</th>\n",
              "      <td>14-10-2022 / 09:28:18</td>\n",
              "      <td>14438378825</td>\n",
              "      <td>Buenas tardes, les saluda Lorena Sofia  Carvaj...</td>\n",
              "      <td>Soporte</td>\n",
              "    </tr>\n",
              "    <tr>\n",
              "      <th>3</th>\n",
              "      <td>12-10-2022 / 15:45:00</td>\n",
              "      <td>14438378825</td>\n",
              "      <td>Buenas tardes, recibi un correo para renovar l...</td>\n",
              "      <td>Renovaciones</td>\n",
              "    </tr>\n",
              "    <tr>\n",
              "      <th>4</th>\n",
              "      <td>17-10-2022 / 13:07:38</td>\n",
              "      <td>17862568709</td>\n",
              "      <td>Hola, estoy intentando registrar mi firma con ...</td>\n",
              "      <td>Operaciones</td>\n",
              "    </tr>\n",
              "  </tbody>\n",
              "</table>\n",
              "</div>"
            ],
            "text/plain": [
              "                   Fecha           Id  \\\n",
              "0  18-10-2022 / 21:30:43  12392451273   \n",
              "1  10-10-2022 / 18:19:32  13059890172   \n",
              "2  14-10-2022 / 09:28:18  14438378825   \n",
              "3  12-10-2022 / 15:45:00  14438378825   \n",
              "4  17-10-2022 / 13:07:38  17862568709   \n",
              "\n",
              "                                        Conversacion                 Area  \n",
              "0  Buenos días no me han dado hasta ahora mi firm...          Operaciones  \n",
              "1  Yo ya tengo mi firma electrónica con ustedes p...  Sistema Facturacion  \n",
              "2  Buenas tardes, les saluda Lorena Sofia  Carvaj...              Soporte  \n",
              "3  Buenas tardes, recibi un correo para renovar l...         Renovaciones  \n",
              "4  Hola, estoy intentando registrar mi firma con ...          Operaciones  "
            ]
          },
          "execution_count": 127,
          "metadata": {},
          "output_type": "execute_result"
        }
      ],
      "source": [
        "data_new.head()"
      ]
    },
    {
      "cell_type": "code",
      "execution_count": null,
      "id": "0022a488",
      "metadata": {
        "id": "0022a488",
        "outputId": "b1a526c9-2d1e-4186-f6b4-1b7a5d9dbf71"
      },
      "outputs": [
        {
          "data": {
            "text/plain": [
              "Operaciones            325\n",
              "Renovaciones           237\n",
              "Sistema Facturacion    236\n",
              "Soporte                193\n",
              "Name: Area, dtype: int64"
            ]
          },
          "execution_count": 129,
          "metadata": {},
          "output_type": "execute_result"
        }
      ],
      "source": [
        "data_new[\"Area\"].value_counts()"
      ]
    },
    {
      "cell_type": "code",
      "execution_count": null,
      "id": "a42cec0e",
      "metadata": {
        "id": "a42cec0e"
      },
      "outputs": [],
      "source": [
        "import string\n",
        "punctuation = set(string.punctuation)\n",
        "def tokenizar(oracion):\n",
        "    tokens = []\n",
        "    for token in oracion.split():\n",
        "        token_nw = []\n",
        "        for character in token:\n",
        "            if character not in punctuation:\n",
        "                token_nw.append(character.lower())\n",
        "        if token_nw:\n",
        "            tokens.append(\"\".join(token_nw))\n",
        "    return tokens"
      ]
    },
    {
      "cell_type": "code",
      "execution_count": null,
      "id": "c8a9d1a0",
      "metadata": {
        "id": "c8a9d1a0",
        "outputId": "bde14db3-c2c9-4198-d35d-dfa346aa52e2"
      },
      "outputs": [
        {
          "data": {
            "text/plain": [
              "0    [buenos, días, no, me, han, dado, hasta, ahora...\n",
              "1    [yo, ya, tengo, mi, firma, electrónica, con, u...\n",
              "2    [buenas, tardes, les, saluda, lorena, sofia, c...\n",
              "3    [buenas, tardes, recibi, un, correo, para, ren...\n",
              "4    [hola, estoy, intentando, registrar, mi, firma...\n",
              "Name: Conversacion, dtype: object"
            ]
          },
          "execution_count": 131,
          "metadata": {},
          "output_type": "execute_result"
        }
      ],
      "source": [
        "data_new.head()[\"Conversacion\"].apply(tokenizar)"
      ]
    },
    {
      "cell_type": "markdown",
      "id": "41b8ee86",
      "metadata": {
        "id": "41b8ee86"
      },
      "source": [
        "#### Separacion de datos de entrenamiento y test"
      ]
    },
    {
      "cell_type": "code",
      "execution_count": null,
      "id": "d35506a6",
      "metadata": {
        "id": "d35506a6",
        "outputId": "771bc0c9-b337-4130-b4a1-91d5e0df82d9"
      },
      "outputs": [
        {
          "name": "stdout",
          "output_type": "stream",
          "text": [
            "Data entrenamiento: 743, Data de test: 248\n"
          ]
        }
      ],
      "source": [
        "text_entrenamiento, text_test, label_entrenamiento, label_test = train_test_split(data_new['Conversacion'], data_new['Area'], stratify=data_new['Area'])\n",
        "print(f\"Data entrenamiento: {len(text_entrenamiento)}, Data de test: {len(text_test)}\")"
      ]
    },
    {
      "cell_type": "markdown",
      "id": "cbcad085",
      "metadata": {
        "id": "cbcad085"
      },
      "source": [
        "#### Creacion de modelo MSV"
      ]
    },
    {
      "cell_type": "code",
      "execution_count": null,
      "id": "b15dca85",
      "metadata": {
        "id": "b15dca85",
        "outputId": "3a5b5f68-e85d-4cbc-f11a-bf44438ea929"
      },
      "outputs": [
        {
          "data": {
            "text/html": [
              "<style>#sk-container-id-4 {color: black;background-color: white;}#sk-container-id-4 pre{padding: 0;}#sk-container-id-4 div.sk-toggleable {background-color: white;}#sk-container-id-4 label.sk-toggleable__label {cursor: pointer;display: block;width: 100%;margin-bottom: 0;padding: 0.3em;box-sizing: border-box;text-align: center;}#sk-container-id-4 label.sk-toggleable__label-arrow:before {content: \"▸\";float: left;margin-right: 0.25em;color: #696969;}#sk-container-id-4 label.sk-toggleable__label-arrow:hover:before {color: black;}#sk-container-id-4 div.sk-estimator:hover label.sk-toggleable__label-arrow:before {color: black;}#sk-container-id-4 div.sk-toggleable__content {max-height: 0;max-width: 0;overflow: hidden;text-align: left;background-color: #f0f8ff;}#sk-container-id-4 div.sk-toggleable__content pre {margin: 0.2em;color: black;border-radius: 0.25em;background-color: #f0f8ff;}#sk-container-id-4 input.sk-toggleable__control:checked~div.sk-toggleable__content {max-height: 200px;max-width: 100%;overflow: auto;}#sk-container-id-4 input.sk-toggleable__control:checked~label.sk-toggleable__label-arrow:before {content: \"▾\";}#sk-container-id-4 div.sk-estimator input.sk-toggleable__control:checked~label.sk-toggleable__label {background-color: #d4ebff;}#sk-container-id-4 div.sk-label input.sk-toggleable__control:checked~label.sk-toggleable__label {background-color: #d4ebff;}#sk-container-id-4 input.sk-hidden--visually {border: 0;clip: rect(1px 1px 1px 1px);clip: rect(1px, 1px, 1px, 1px);height: 1px;margin: -1px;overflow: hidden;padding: 0;position: absolute;width: 1px;}#sk-container-id-4 div.sk-estimator {font-family: monospace;background-color: #f0f8ff;border: 1px dotted black;border-radius: 0.25em;box-sizing: border-box;margin-bottom: 0.5em;}#sk-container-id-4 div.sk-estimator:hover {background-color: #d4ebff;}#sk-container-id-4 div.sk-parallel-item::after {content: \"\";width: 100%;border-bottom: 1px solid gray;flex-grow: 1;}#sk-container-id-4 div.sk-label:hover label.sk-toggleable__label {background-color: #d4ebff;}#sk-container-id-4 div.sk-serial::before {content: \"\";position: absolute;border-left: 1px solid gray;box-sizing: border-box;top: 0;bottom: 0;left: 50%;z-index: 0;}#sk-container-id-4 div.sk-serial {display: flex;flex-direction: column;align-items: center;background-color: white;padding-right: 0.2em;padding-left: 0.2em;position: relative;}#sk-container-id-4 div.sk-item {position: relative;z-index: 1;}#sk-container-id-4 div.sk-parallel {display: flex;align-items: stretch;justify-content: center;background-color: white;position: relative;}#sk-container-id-4 div.sk-item::before, #sk-container-id-4 div.sk-parallel-item::before {content: \"\";position: absolute;border-left: 1px solid gray;box-sizing: border-box;top: 0;bottom: 0;left: 50%;z-index: -1;}#sk-container-id-4 div.sk-parallel-item {display: flex;flex-direction: column;z-index: 1;position: relative;background-color: white;}#sk-container-id-4 div.sk-parallel-item:first-child::after {align-self: flex-end;width: 50%;}#sk-container-id-4 div.sk-parallel-item:last-child::after {align-self: flex-start;width: 50%;}#sk-container-id-4 div.sk-parallel-item:only-child::after {width: 0;}#sk-container-id-4 div.sk-dashed-wrapped {border: 1px dashed gray;margin: 0 0.4em 0.5em 0.4em;box-sizing: border-box;padding-bottom: 0.4em;background-color: white;}#sk-container-id-4 div.sk-label label {font-family: monospace;font-weight: bold;display: inline-block;line-height: 1.2em;}#sk-container-id-4 div.sk-label-container {text-align: center;}#sk-container-id-4 div.sk-container {/* jupyter's `normalize.less` sets `[hidden] { display: none; }` but bootstrap.min.css set `[hidden] { display: none !important; }` so we also need the `!important` here to be able to override the default hidden behavior on the sphinx rendered scikit-learn.org. See: https://github.com/scikit-learn/scikit-learn/issues/21755 */display: inline-block !important;position: relative;}#sk-container-id-4 div.sk-text-repr-fallback {display: none;}</style><div id=\"sk-container-id-4\" class=\"sk-top-container\"><div class=\"sk-text-repr-fallback\"><pre>LinearSVC(max_iter=1500, verbose=10)</pre><b>In a Jupyter environment, please rerun this cell to show the HTML representation or trust the notebook. <br />On GitHub, the HTML representation is unable to render, please try loading this page with nbviewer.org.</b></div><div class=\"sk-container\" hidden><div class=\"sk-item\"><div class=\"sk-estimator sk-toggleable\"><input class=\"sk-toggleable__control sk-hidden--visually\" id=\"sk-estimator-id-4\" type=\"checkbox\" checked><label for=\"sk-estimator-id-4\" class=\"sk-toggleable__label sk-toggleable__label-arrow\">LinearSVC</label><div class=\"sk-toggleable__content\"><pre>LinearSVC(max_iter=1500, verbose=10)</pre></div></div></div></div></div>"
            ],
            "text/plain": [
              "LinearSVC(max_iter=1500, verbose=10)"
            ]
          },
          "execution_count": 146,
          "metadata": {},
          "output_type": "execute_result"
        }
      ],
      "source": [
        "vectorized = CountVectorizer(tokenizer = tokenizar, binary=True)\n",
        "entrena_X = vectorized.fit_transform(text_entrenamiento)\n",
        "test_X = vectorized.transform(text_test)\n",
        "classifier = LinearSVC()\n",
        "classifier.fit(entrena_X, label_entrenamiento)\n",
        "LinearSVC(C=1.0, class_weight=None, dual=True, fit_intercept=True,\n",
        "          intercept_scaling=1, loss='squared_hinge', max_iter=1500,\n",
        "          multi_class='ovr', penalty='l2', random_state=None, tol=0.0001,\n",
        "          verbose=10)"
      ]
    },
    {
      "cell_type": "code",
      "execution_count": null,
      "id": "602d413a",
      "metadata": {
        "id": "602d413a"
      },
      "outputs": [],
      "source": [
        "predicciones = classifier.predict(test_X)"
      ]
    },
    {
      "cell_type": "code",
      "execution_count": null,
      "id": "ab51fa4d",
      "metadata": {
        "id": "ab51fa4d",
        "outputId": "82d0e3a0-0ce2-4bc3-dd67-1116f5c01e4a"
      },
      "outputs": [
        {
          "name": "stdout",
          "output_type": "stream",
          "text": [
            "[[74  0  0  8]\n",
            " [ 2 56  0  1]\n",
            " [ 4  1 54  0]\n",
            " [ 9  1  4 34]]\n"
          ]
        },
        {
          "data": {
            "image/png": "[encoded data removed]",
            "text/plain": [
              "<Figure size 432x288 with 2 Axes>"
            ]
          },
          "metadata": {
            "needs_background": "light"
          },
          "output_type": "display_data"
        }
      ],
      "source": [
        "plot_confusion_matrix(metrics.confusion_matrix(label_test, predicciones), classes=[\"Operaciones\",\"Renovaciones\",\"Sistema Facturacion\",\"Soporte\"])"
      ]
    },
    {
      "cell_type": "code",
      "execution_count": null,
      "id": "f34e3dbe",
      "metadata": {
        "id": "f34e3dbe",
        "outputId": "17b035d6-712b-4fa5-e9f6-400bbf17dcf6"
      },
      "outputs": [
        {
          "name": "stdout",
          "output_type": "stream",
          "text": [
            "                     precision    recall  f1-score   support\n",
            "\n",
            "        Operaciones       0.83      0.90      0.87        82\n",
            "       Renovaciones       0.97      0.95      0.96        59\n",
            "Sistema Facturacion       0.93      0.92      0.92        59\n",
            "            Soporte       0.79      0.71      0.75        48\n",
            "\n",
            "           accuracy                           0.88       248\n",
            "          macro avg       0.88      0.87      0.87       248\n",
            "       weighted avg       0.88      0.88      0.88       248\n",
            "\n"
          ]
        }
      ],
      "source": [
        "print(metrics.classification_report(label_test, predicciones))"
      ]
    },
    {
      "cell_type": "markdown",
      "id": "0a27a41d",
      "metadata": {
        "id": "0a27a41d"
      },
      "source": [
        "#### Pruebas de modelo"
      ]
    },
    {
      "cell_type": "code",
      "execution_count": null,
      "id": "7b075fa1",
      "metadata": {
        "id": "7b075fa1"
      },
      "outputs": [],
      "source": [
        "frases = [\n",
        "    'Quiero saber como renovar mi firma',\n",
        "    'Como obtengo mi sistema de facturacion',\n",
        "    'Que hago cuando falta subir el pago',\n",
        "    'No puedo descargar la firma electronica',\n",
        "    'Que precios nomas tiene para facturacion electronica']"
      ]
    },
    {
      "cell_type": "code",
      "execution_count": null,
      "id": "6446bfd9",
      "metadata": {
        "id": "6446bfd9"
      },
      "outputs": [],
      "source": [
        "frases_X = vectorized.transform(frases)\n",
        "predicciones = classifier.predict(frases_X)"
      ]
    },
    {
      "cell_type": "code",
      "execution_count": null,
      "id": "b1bf2f6f",
      "metadata": {
        "id": "b1bf2f6f",
        "outputId": "08c38c48-b08a-4ac4-f148-fdc033d71378"
      },
      "outputs": [
        {
          "name": "stdout",
          "output_type": "stream",
          "text": [
            "Renovaciones - Quiero saber como renovar mi firma\n",
            "Sistema Facturacion - Como obtengo mi sistema de facturacion\n",
            "Operaciones - Que hago cuando falta subir el pago\n",
            "Soporte - No puedo descargar la firma electronica\n",
            "Sistema Facturacion - Que precios nomas tiene para facturacion electronica\n"
          ]
        }
      ],
      "source": [
        "for texto, area in zip(frases,predicciones):\n",
        "    print(f\"{area:5} - {texto}\")"
      ]
    },
    {
      "cell_type": "code",
      "execution_count": null,
      "id": "1d3efb4b",
      "metadata": {
        "id": "1d3efb4b"
      },
      "outputs": [],
      "source": []
    }
  ],
  "metadata": {
    "kernelspec": {
      "display_name": "Python 3",
      "language": "python",
      "name": "python3"
    },
    "language_info": {
      "codemirror_mode": {
        "name": "ipython",
        "version": 3
      },
      "file_extension": ".py",
      "mimetype": "text/x-python",
      "name": "python",
      "nbconvert_exporter": "python",
      "pygments_lexer": "ipython3",
      "version": "3.8.8"
    },
    "colab": {
      "provenance": [],
      "include_colab_link": true
    }
  },
  "nbformat": 4,
  "nbformat_minor": 5
}